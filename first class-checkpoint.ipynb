{
 "cells": [
  {
   "cell_type": "markdown",
   "id": "b7ad9ec3",
   "metadata": {},
   "source": [
    "# Control Flow in Python\n",
    "is the order at which python execute the statement or syntax\n",
    "\n",
    "### 1. Conditional Statement\n",
    "    a. if\n",
    "    b. elif\n",
    "    c. else\n",
    "    \n",
    "###  2. Loop Statement\n",
    "     a. for\n",
    "     b. while\n",
    "     \n",
    "     \n",
    " ### 3. Loop Control Statement\n",
    "      a break\n",
    "      b. continue\n",
    "  \n",
    "### 4. Error Handling Statement\n",
    "     a. try\n",
    "     b. except\n",
    "     c. finally"
   ]
  },
  {
   "cell_type": "code",
   "execution_count": 3,
   "id": "284b1271",
   "metadata": {},
   "outputs": [
    {
     "name": "stdout",
     "output_type": "stream",
     "text": [
      "we are good to go!\n"
     ]
    }
   ],
   "source": [
    "# if \n",
    "a = 10\n",
    "if a > 5:\n",
    "    print(\"we are good to go!\")"
   ]
  },
  {
   "cell_type": "code",
   "execution_count": 4,
   "id": "8ae4f086",
   "metadata": {},
   "outputs": [],
   "source": [
    "# if \n",
    "a = 10\n",
    "if a < 5:\n",
    "    print(\"we are good to go!\")"
   ]
  },
  {
   "cell_type": "code",
   "execution_count": 5,
   "id": "4f8540c2",
   "metadata": {},
   "outputs": [
    {
     "name": "stdout",
     "output_type": "stream",
     "text": [
      "we are good to go!\n"
     ]
    }
   ],
   "source": [
    "# if and else statement\n",
    "\n",
    "b = 15\n",
    "\n",
    "if b > 15:\n",
    "    print(\"we may need to wait!\")\n",
    "else:\n",
    "    print(\"we are good to go!\")"
   ]
  },
  {
   "cell_type": "code",
   "execution_count": 6,
   "id": "2f079b09",
   "metadata": {},
   "outputs": [
    {
     "name": "stdout",
     "output_type": "stream",
     "text": [
      "Ade is a man\n"
     ]
    }
   ],
   "source": [
    "a = 10\n",
    "b = 20\n",
    "\n",
    "if (a>15) and (b==20):\n",
    "    print(\"we need people to talk\")\n",
    "    \n",
    "elif (a==10) and (b>15):\n",
    "    print(\"Ade is a man\")\n",
    "    \n",
    "elif (a>=10) and (b==20):\n",
    "    print(\"we are the people\")\n",
    "else:\n",
    "    print(\"non of the above condition is met!\")"
   ]
  },
  {
   "cell_type": "markdown",
   "id": "b323d60a",
   "metadata": {},
   "source": [
    "# Nested if"
   ]
  },
  {
   "cell_type": "code",
   "execution_count": 14,
   "id": "aa0f690c",
   "metadata": {},
   "outputs": [
    {
     "name": "stdout",
     "output_type": "stream",
     "text": [
      "please enter your age 77\n",
      "do you have a pvc yes\n",
      "what is your polling units OLoWoiRA\n",
      "vote for Mr A\n"
     ]
    }
   ],
   "source": [
    "age = int( input(\"please enter your age \"))\n",
    "if age>= 18:\n",
    "    pvc = input(\"do you have a pvc \").lower()\n",
    "    if pvc == \"yes\":\n",
    "        lga= input(\"what is your polling units \").lower()\n",
    "        if lga==\"olowoira\":\n",
    "            print(\"vote for Mr A\")\n",
    "        else:\n",
    "            print(\"you can vote for any person you wish\")\n",
    "    else:\n",
    "        print(\"go the Mr James to collect your pvc, and come back to vote\")\n",
    "else:\n",
    "    print(\"come back when you are 18\")"
   ]
  },
  {
   "cell_type": "code",
   "execution_count": 16,
   "id": "b44f2439",
   "metadata": {},
   "outputs": [
    {
     "name": "stdout",
     "output_type": "stream",
     "text": [
      "1\n",
      "2\n",
      "3\n",
      "4\n",
      "5\n",
      "6\n",
      "7\n",
      "8\n",
      "9\n",
      "10\n",
      "11\n",
      "12\n",
      "13\n",
      "14\n",
      "15\n",
      "16\n",
      "171\n",
      "18\n",
      "19\n",
      "20\n"
     ]
    }
   ],
   "source": [
    "# for loop\n",
    "ages = [1,2,3,4,5,6,7,8,9,10,11,12,13,14,15,16,171,18,19,20] \n",
    "\n",
    "for age in ages:\n",
    "    print(age)"
   ]
  },
  {
   "cell_type": "code",
   "execution_count": 17,
   "id": "597843f3",
   "metadata": {},
   "outputs": [
    {
     "ename": "TypeError",
     "evalue": "'int' object is not iterable",
     "output_type": "error",
     "traceback": [
      "\u001b[1;31m---------------------------------------------------------------------------\u001b[0m",
      "\u001b[1;31mTypeError\u001b[0m                                 Traceback (most recent call last)",
      "\u001b[1;32m~\\AppData\\Local\\Temp\\ipykernel_14320\\1856874905.py\u001b[0m in \u001b[0;36m<module>\u001b[1;34m\u001b[0m\n\u001b[0;32m      1\u001b[0m \u001b[0ma\u001b[0m \u001b[1;33m=\u001b[0m \u001b[1;36m5\u001b[0m\u001b[1;33m\u001b[0m\u001b[1;33m\u001b[0m\u001b[0m\n\u001b[1;32m----> 2\u001b[1;33m \u001b[1;32mfor\u001b[0m \u001b[0mi\u001b[0m \u001b[1;32min\u001b[0m \u001b[0ma\u001b[0m\u001b[1;33m:\u001b[0m\u001b[1;33m\u001b[0m\u001b[1;33m\u001b[0m\u001b[0m\n\u001b[0m\u001b[0;32m      3\u001b[0m     \u001b[0mprint\u001b[0m\u001b[1;33m(\u001b[0m\u001b[0mi\u001b[0m\u001b[1;33m)\u001b[0m\u001b[1;33m\u001b[0m\u001b[1;33m\u001b[0m\u001b[0m\n",
      "\u001b[1;31mTypeError\u001b[0m: 'int' object is not iterable"
     ]
    }
   ],
   "source": [
    "a = 5\n",
    "for i in a:\n",
    "    print(i)"
   ]
  },
  {
   "cell_type": "markdown",
   "id": "6a99b755",
   "metadata": {},
   "source": [
    "range(index  :position:step)"
   ]
  },
  {
   "cell_type": "code",
   "execution_count": 22,
   "id": "864cf78c",
   "metadata": {},
   "outputs": [
    {
     "name": "stdout",
     "output_type": "stream",
     "text": [
      "0\n",
      "2\n",
      "4\n",
      "6\n",
      "8\n",
      "10\n",
      "12\n",
      "14\n",
      "16\n",
      "18\n",
      "20\n"
     ]
    }
   ],
   "source": [
    "for i in range(0, 22, 2): # iterable element\n",
    "    print(i)"
   ]
  },
  {
   "cell_type": "code",
   "execution_count": 23,
   "id": "0e4b84c1",
   "metadata": {},
   "outputs": [],
   "source": [
    "# seperate the odd ages and the even ages from the list of ages below\n",
    "ages = [1,2,3,4,5,6,7,8,9,10,11,12,13,14,15,16,171,18,19,20] \n",
    "odd_ages = []\n",
    "even_ages = []\n",
    "for age in ages:\n",
    "    if age%2==0:\n",
    "        even_ages.append(age)\n",
    "    else:\n",
    "        odd_ages.append(age)"
   ]
  },
  {
   "cell_type": "code",
   "execution_count": 25,
   "id": "bfae7ba6",
   "metadata": {},
   "outputs": [
    {
     "name": "stdout",
     "output_type": "stream",
     "text": [
      "[1, 3, 5, 7, 9, 11, 13, 15, 171, 19]\n"
     ]
    }
   ],
   "source": [
    "print(odd_ages)"
   ]
  },
  {
   "cell_type": "code",
   "execution_count": 26,
   "id": "e0a3bc20",
   "metadata": {},
   "outputs": [
    {
     "name": "stdout",
     "output_type": "stream",
     "text": [
      "[2, 4, 6, 8, 10, 12, 14, 16, 18, 20]\n"
     ]
    }
   ],
   "source": [
    "print(even_ages)"
   ]
  },
  {
   "cell_type": "code",
   "execution_count": 28,
   "id": "96b3a517",
   "metadata": {},
   "outputs": [
    {
     "name": "stdout",
     "output_type": "stream",
     "text": [
      "python is fun to learn 0\n",
      "python is fun to learn 1\n",
      "python is fun to learn 2\n",
      "python is fun to learn 3\n",
      "python is fun to learn 4\n",
      "python is fun to learn 5\n"
     ]
    }
   ],
   "source": [
    "# while\n",
    "a= 0\n",
    "while a<=5:\n",
    "    print(\"python is fun to learn {}\".format(a))\n",
    "    a+=1"
   ]
  },
  {
   "cell_type": "code",
   "execution_count": 39,
   "id": "aef2b59e",
   "metadata": {},
   "outputs": [
    {
     "name": "stdout",
     "output_type": "stream",
     "text": [
      "input A to vote for Mr A, or B to vote for Mr B a\n",
      "input A to vote for Mr A, or B to vote for Mr B x\n",
      "input A to vote for Mr A, or B to vote for Mr B a\n",
      "input A to vote for Mr A, or B to vote for Mr B a\n",
      "input A to vote for Mr A, or B to vote for Mr B x\n",
      "input A to vote for Mr A, or B to vote for Mr B a\n",
      "input A to vote for Mr A, or B to vote for Mr B a\n",
      "input A to vote for Mr A, or B to vote for Mr B c\n",
      "input A to vote for Mr A, or B to vote for Mr B b\n",
      "input A to vote for Mr A, or B to vote for Mr B b\n",
      "input A to vote for Mr A, or B to vote for Mr B b\n",
      "Mr A is the winner with 5 total count of vote\n"
     ]
    }
   ],
   "source": [
    "# write a python programm to allow 11 people to vote for two candidates then count result of the vote\n",
    "# and declear the winner\n",
    "\n",
    "cast = 1\n",
    "A = []\n",
    "B = []\n",
    "void = []\n",
    "while cast<=11:\n",
    "    vote = input(\"input A to vote for Mr A, or B to vote for Mr B \").upper()\n",
    "    if vote== \"A\":\n",
    "        A.append(vote)\n",
    "    elif vote == \"B\":\n",
    "        B.append(vote)\n",
    "    else:\n",
    "        void.append(vote)\n",
    "    cast+=1\n",
    "    \n",
    "if len(A)> len(B):\n",
    "    print(\"Mr A is the winner with {} total count of vote\".format(len(A)))\n",
    "elif len(B) > len(A):\n",
    "    print(\"Mr B is the winner with {} total count of vote\".format(len(B)))\n",
    "else:\n",
    "    print(\"we have vote again , because total count void is {} more count of Mr A and B\".format(len(void)))"
   ]
  },
  {
   "cell_type": "code",
   "execution_count": 32,
   "id": "f694dcb8",
   "metadata": {},
   "outputs": [
    {
     "name": "stdout",
     "output_type": "stream",
     "text": [
      "['A', 'A', 'A', 'A', 'A', 'A', 'A', 'A', 'A', 'A', 'A']\n"
     ]
    }
   ],
   "source": [
    "print(A)"
   ]
  },
  {
   "cell_type": "code",
   "execution_count": 33,
   "id": "af7b0b11",
   "metadata": {},
   "outputs": [
    {
     "name": "stdout",
     "output_type": "stream",
     "text": [
      "[]\n"
     ]
    }
   ],
   "source": [
    "print(B)"
   ]
  },
  {
   "cell_type": "code",
   "execution_count": 40,
   "id": "8ef865a3",
   "metadata": {},
   "outputs": [
    {
     "name": "stdout",
     "output_type": "stream",
     "text": [
      "['X', 'X', 'C']\n"
     ]
    }
   ],
   "source": [
    "print(void)"
   ]
  },
  {
   "cell_type": "code",
   "execution_count": 42,
   "id": "ed4a000e",
   "metadata": {},
   "outputs": [
    {
     "name": "stdout",
     "output_type": "stream",
     "text": [
      "input A to vote for Mr A, or B to vote for Mr B a\n",
      "input A to vote for Mr A, or B to vote for Mr B a\n",
      "input A to vote for Mr A, or B to vote for Mr B a\n",
      "input A to vote for Mr A, or B to vote for Mr B a\n",
      "input A to vote for Mr A, or B to vote for Mr B a\n",
      "input A to vote for Mr A, or B to vote for Mr B a\n",
      "input A to vote for Mr A, or B to vote for Mr B a\n",
      "input A to vote for Mr A, or B to vote for Mr B a\n",
      "input A to vote for Mr A, or B to vote for Mr B a\n",
      "input A to vote for Mr A, or B to vote for Mr B a\n",
      "input A to vote for Mr A, or B to vote for Mr B a\n",
      "\n",
      "\n",
      "Mr A has 11 total vote\n",
      "Mr B has 0 total vote\n",
      "The total void is 0\n"
     ]
    }
   ],
   "source": [
    "# write a python programm to allow 11 people to vote for two candidates then count result of the vote\n",
    "# and declear the winner\n",
    "\n",
    "cast = 1\n",
    "A = []\n",
    "B = []\n",
    "void = []\n",
    "while cast<=11:\n",
    "    vote = input(\"input A to vote for Mr A, or B to vote for Mr B \").upper()\n",
    "    if vote== \"A\":\n",
    "        A.append(vote)\n",
    "    elif vote == \"B\":\n",
    "        B.append(vote)\n",
    "    else:\n",
    "        void.append(vote)\n",
    "    cast+=1\n",
    "print(\"\\n\")    \n",
    "print(\"Mr A has {} total vote\".format(len(A)))\n",
    "print(\"Mr B has {} total vote\".format(len(B)))\n",
    "print(\"The total void is {}\".format(len(void)))\n",
    "    "
   ]
  },
  {
   "cell_type": "code",
   "execution_count": 44,
   "id": "8bbe775e",
   "metadata": {},
   "outputs": [
    {
     "name": "stdout",
     "output_type": "stream",
     "text": [
      "python 0\n",
      "python 1\n",
      "python 2\n",
      "python 3\n",
      "python 4\n",
      "python 5\n"
     ]
    }
   ],
   "source": [
    "# while true\n",
    "a=0\n",
    "while True:\n",
    "    print(\"python {}\".format(a))\n",
    "    if a==5:\n",
    "        break\n",
    "    a+=1"
   ]
  },
  {
   "cell_type": "code",
   "execution_count": null,
   "id": "22f12388",
   "metadata": {},
   "outputs": [],
   "source": []
  },
  {
   "cell_type": "code",
   "execution_count": null,
   "id": "f0114be7",
   "metadata": {},
   "outputs": [],
   "source": []
  },
  {
   "cell_type": "markdown",
   "id": "30832bc7",
   "metadata": {},
   "source": [
    "# Loop Control in Python\n",
    "    1. break \n",
    "    2. continue"
   ]
  },
  {
   "cell_type": "code",
   "execution_count": 9,
   "id": "0533708d",
   "metadata": {},
   "outputs": [],
   "source": [
    "# seperate the odd ages and the even ages from the list of ages below\n",
    "ages = [1,2,3,4,5,6,7,8,9,10,11,12,13,14,15,16,171,18,19,20] \n",
    "odd_ages = []\n",
    "even_ages = []\n",
    "for age in ages:\n",
    "    if age%2==0:\n",
    "        even_ages.append(age)\n",
    "    else:\n",
    "        odd_ages.append(age)"
   ]
  },
  {
   "cell_type": "code",
   "execution_count": 10,
   "id": "cace159d",
   "metadata": {},
   "outputs": [
    {
     "name": "stdout",
     "output_type": "stream",
     "text": [
      "[1, 3, 5, 7, 9, 11, 13, 15, 171, 19]\n"
     ]
    }
   ],
   "source": [
    "print(odd_ages)"
   ]
  },
  {
   "cell_type": "code",
   "execution_count": 11,
   "id": "e01a0db1",
   "metadata": {},
   "outputs": [
    {
     "name": "stdout",
     "output_type": "stream",
     "text": [
      "[2, 4, 6, 8, 10, 12, 14, 16, 18, 20]\n"
     ]
    }
   ],
   "source": [
    "print(even_ages)"
   ]
  },
  {
   "cell_type": "code",
   "execution_count": 13,
   "id": "502fe290",
   "metadata": {},
   "outputs": [],
   "source": [
    "ages = [1,2,3,4,5,6,7,8,9,10,11,12,13,14,15,16,17,18,19,20] \n",
    "odd_ages =[]\n",
    "even_ages = []\n",
    "for age in ages:\n",
    "    if age%2 == 0:\n",
    "        even_ages.append(age)\n",
    "    else:\n",
    "        odd_ages.append(age)\n",
    "    if age==14:\n",
    "        break"
   ]
  },
  {
   "cell_type": "code",
   "execution_count": 14,
   "id": "56f3b04c",
   "metadata": {},
   "outputs": [
    {
     "name": "stdout",
     "output_type": "stream",
     "text": [
      "[1, 3, 5, 7, 9, 11, 13]\n"
     ]
    }
   ],
   "source": [
    "print(odd_ages)"
   ]
  },
  {
   "cell_type": "code",
   "execution_count": 15,
   "id": "221cdba7",
   "metadata": {},
   "outputs": [
    {
     "name": "stdout",
     "output_type": "stream",
     "text": [
      "[2, 4, 6, 8, 10, 12, 14]\n"
     ]
    }
   ],
   "source": [
    "print(even_ages)"
   ]
  },
  {
   "cell_type": "code",
   "execution_count": 19,
   "id": "94a78295",
   "metadata": {},
   "outputs": [
    {
     "name": "stdout",
     "output_type": "stream",
     "text": [
      "while true will always to true 30\n",
      "while true will always to true 29\n",
      "while true will always to true 28\n",
      "while true will always to true 27\n",
      "while true will always to true 26\n",
      "while true will always to true 25\n",
      "while true will always to true 24\n",
      "while true will always to true 23\n",
      "while true will always to true 22\n",
      "while true will always to true 21\n"
     ]
    }
   ],
   "source": [
    "v=  30\n",
    "while True:\n",
    "    print(\"while true will always to true {}\".format(v))\n",
    "    v-=1\n",
    "    if v==20:\n",
    "        break\n"
   ]
  },
  {
   "cell_type": "code",
   "execution_count": 20,
   "id": "8b8b6042",
   "metadata": {},
   "outputs": [],
   "source": [
    "ages = [1,2,3,4,5,6,7,8,9,10,11,12,13,14,15,16,17,18,19,20] \n",
    "even_ages=[]\n",
    "odd_ages= []\n",
    "for age in ages:\n",
    "    if age==14:\n",
    "        continue\n",
    "    if age%2==0:\n",
    "        even_ages.append(age)\n",
    "    else:\n",
    "        odd_ages.append(age)"
   ]
  },
  {
   "cell_type": "code",
   "execution_count": 21,
   "id": "9d981dd9",
   "metadata": {},
   "outputs": [
    {
     "name": "stdout",
     "output_type": "stream",
     "text": [
      "[1, 3, 5, 7, 9, 11, 13, 15, 17, 19]\n"
     ]
    }
   ],
   "source": [
    "print(odd_ages)"
   ]
  },
  {
   "cell_type": "code",
   "execution_count": 22,
   "id": "5f807f3d",
   "metadata": {},
   "outputs": [
    {
     "name": "stdout",
     "output_type": "stream",
     "text": [
      "[2, 4, 6, 8, 10, 12, 16, 18, 20]\n"
     ]
    }
   ],
   "source": [
    "print(even_ages)"
   ]
  },
  {
   "cell_type": "code",
   "execution_count": null,
   "id": "233d7b97",
   "metadata": {},
   "outputs": [],
   "source": []
  },
  {
   "cell_type": "code",
   "execution_count": 28,
   "id": "7c39c004",
   "metadata": {},
   "outputs": [
    {
     "name": "stdout",
     "output_type": "stream",
     "text": [
      "enter the next number or done to exit 4\n",
      "enter the next number or done to exit 7\n",
      "enter the next number or done to exit 1\n",
      "enter the next number or done to exit 9\n",
      "enter the next number or done to exit done\n",
      "the sum of all number entered is 21\n"
     ]
    }
   ],
   "source": [
    "# write a python code to collect list of values from a user untill the user enter 'done' then find the\n",
    "# sum of the values \n",
    "all_number = []\n",
    "while True:\n",
    "    number = input(\"enter the next number or done to exit \").lower()\n",
    "    if number==\"done\":\n",
    "        break\n",
    "    number = int(number)\n",
    "    all_number.append(number)\n",
    "\n",
    "sum_all_number = sum(all_number)\n",
    "print(\"the sum of all number entered is {}\".format(sum_all_number))"
   ]
  },
  {
   "cell_type": "code",
   "execution_count": null,
   "id": "dda3b214",
   "metadata": {},
   "outputs": [],
   "source": []
  },
  {
   "cell_type": "code",
   "execution_count": 34,
   "id": "93b25d7e",
   "metadata": {},
   "outputs": [
    {
     "name": "stdout",
     "output_type": "stream",
     "text": [
      "enter the next number or done to exit 2\n",
      "enter the next number or done to exit 67\n",
      "enter the next number or done to exit 12\n",
      "enter the next number or done to exit 4\n",
      "enter the next number or done to exit done\n",
      "the sum of all number entered is 6\n",
      "the list of number that the system can not sum is [67, 12]\n"
     ]
    }
   ],
   "source": [
    "# write a python code to collect list of values from a user untill the user enter 'done' then find the\n",
    "# sum of the values. hint. \n",
    "all_number = []\n",
    "cannot_sum = []\n",
    "while True:\n",
    "    number = input(\"enter the next number or done to exit \").lower()\n",
    "    if number==\"done\":\n",
    "        break\n",
    "    number = int(number)\n",
    "    if number>9.9:\n",
    "        cannot_sum.append(number)\n",
    "        continue\n",
    "    all_number.append(number)\n",
    "\n",
    "sum_all_number = sum(all_number)\n",
    "print(\"the sum of all number entered is {}\".format(sum_all_number))\n",
    "print(f   e list of number that the system can not sum is {cannot_sum}\")"
   ]
  },
  {
   "cell_type": "code",
   "execution_count": null,
   "id": "d2dc2d30",
   "metadata": {},
   "outputs": [],
   "source": []
  },
  {
   "cell_type": "markdown",
   "id": "53cd69ee",
   "metadata": {},
   "source": [
    "# Error Handling in Python\n",
    "- try\n",
    "- except \n",
    "- finally"
   ]
  },
  {
   "cell_type": "code",
   "execution_count": null,
   "id": "c6ddc0f0",
   "metadata": {},
   "outputs": [],
   "source": [
    "jjj\n",
    "\n",
    "\n",
    "5555\n",
    "\n",
    "\n",
    "\n",
    "\n",
    "\n",
    "\n",
    "\n",
    "\n",
    "q"
   ]
  },
  {
   "cell_type": "code",
   "execution_count": 36,
   "id": "4611c1c7",
   "metadata": {},
   "outputs": [
    {
     "ename": "ZeroDivisionError",
     "evalue": "division by zero",
     "output_type": "error",
     "traceback": [
      "\u001b[1;31m---------------------------------------------------------------------------\u001b[0m",
      "\u001b[1;31mZeroDivisionError\u001b[0m                         Traceback (most recent call last)",
      "\u001b[1;32m~\\AppData\\Local\\Temp\\ipykernel_11096\\3627099327.py\u001b[0m in \u001b[0;36m<module>\u001b[1;34m\u001b[0m\n\u001b[1;32m----> 1\u001b[1;33m \u001b[1;36m2\u001b[0m\u001b[1;33m/\u001b[0m\u001b[1;36m0\u001b[0m\u001b[1;33m\u001b[0m\u001b[1;33m\u001b[0m\u001b[0m\n\u001b[0m",
      "\u001b[1;31mZeroDivisionError\u001b[0m: division by zero"
     ]
    }
   ],
   "source": [
    "2/0"
   ]
  },
  {
   "cell_type": "code",
   "execution_count": 38,
   "id": "21dac896",
   "metadata": {},
   "outputs": [
    {
     "name": "stdout",
     "output_type": "stream",
     "text": [
      "enter the first number    2\n",
      "enter the second number   0\n",
      "the second can not be zero\n",
      "\n",
      " thanks for checking\n"
     ]
    }
   ],
   "source": [
    "try:\n",
    "    n1 = int(input(\"enter the first number    \"))\n",
    "    n2 = int(input(\"enter the second number   \"))\n",
    "    division = n1/n2\n",
    "    print(f\"the division of the two numbers entered is {division}\")\n",
    "except:\n",
    "    print(\"the second can not be zero\")\n",
    "finally:\n",
    "    print(\"\\n thanks for checking\")"
   ]
  },
  {
   "cell_type": "code",
   "execution_count": null,
   "id": "330c7dd8",
   "metadata": {},
   "outputs": [],
   "source": []
  },
  {
   "cell_type": "code",
   "execution_count": null,
   "id": "45a7f16d",
   "metadata": {},
   "outputs": [],
   "source": []
  },
  {
   "cell_type": "markdown",
   "id": "99540c25",
   "metadata": {},
   "source": [
    "#  Function in Python\n",
    "Function in python is a group of statement defined under a specific name to perform a specific task.\n",
    "the purpose of writing function in python is to avoid repeatation\n",
    "    1. predefined function (max, sum, len)\n",
    "    2. user defined function "
   ]
  },
  {
   "cell_type": "code",
   "execution_count": null,
   "id": "739c91ea",
   "metadata": {},
   "outputs": [],
   "source": [
    "# 1. function creation\n",
    "# 2. calling of function"
   ]
  },
  {
   "cell_type": "code",
   "execution_count": 41,
   "id": "b6bde0d0",
   "metadata": {},
   "outputs": [],
   "source": [
    "def greet( ): # non parameter function\n",
    "    print(\"You are Welcome\")\n",
    "    "
   ]
  },
  {
   "cell_type": "code",
   "execution_count": 42,
   "id": "15bf1a10",
   "metadata": {},
   "outputs": [
    {
     "name": "stdout",
     "output_type": "stream",
     "text": [
      "You are Welcome\n"
     ]
    }
   ],
   "source": [
    "# calling the function greet\n",
    "greet()"
   ]
  },
  {
   "cell_type": "code",
   "execution_count": null,
   "id": "7f19e5f0",
   "metadata": {},
   "outputs": [],
   "source": []
  },
  {
   "cell_type": "code",
   "execution_count": 43,
   "id": "d498b6a7",
   "metadata": {},
   "outputs": [],
   "source": [
    "# define a function that can add any two number\n",
    "\n",
    "def add_two_number(a, s):\n",
    "    sum_ = a + s\n",
    "    return sum_"
   ]
  },
  {
   "cell_type": "code",
   "execution_count": 44,
   "id": "ced0fbb6",
   "metadata": {},
   "outputs": [
    {
     "data": {
      "text/plain": [
       "85"
      ]
     },
     "execution_count": 44,
     "metadata": {},
     "output_type": "execute_result"
    }
   ],
   "source": [
    "add_two_number(10, 75)"
   ]
  },
  {
   "cell_type": "code",
   "execution_count": 46,
   "id": "ac0c29a4",
   "metadata": {},
   "outputs": [],
   "source": [
    "def y():\n",
    "    all_number = []\n",
    "    cannot_sum = []\n",
    "    while True:\n",
    "        number = input(\"enter the next number or done to exit \").lower()\n",
    "        if number==\"done\":\n",
    "            break\n",
    "        number = int(number)\n",
    "        if number>9.9:\n",
    "            cannot_sum.append(number)\n",
    "            continue\n",
    "        all_number.append(number)\n",
    "\n",
    "    sum_all_number = sum(all_number)\n",
    "    print(\"the sum of all number entered is {}\".format(sum_all_number))\n",
    "    print(f\" the list of number that the system can not sum is {cannot_sum}\")"
   ]
  },
  {
   "cell_type": "code",
   "execution_count": null,
   "id": "c355f3a2",
   "metadata": {},
   "outputs": [],
   "source": []
  },
  {
   "cell_type": "code",
   "execution_count": 47,
   "id": "bbc4c883",
   "metadata": {},
   "outputs": [
    {
     "name": "stdout",
     "output_type": "stream",
     "text": [
      "enter the next number or done to exit 5\n",
      "enter the next number or done to exit 7\n",
      "enter the next number or done to exit 12\n",
      "enter the next number or done to exit 67\n",
      "enter the next number or done to exit done\n",
      "the sum of all number entered is 12\n",
      " the list of number that the system can not sum is [12, 67]\n"
     ]
    }
   ],
   "source": [
    "y()"
   ]
  },
  {
   "cell_type": "markdown",
   "id": "c68cfd8c",
   "metadata": {},
   "source": [
    "# Anonymous Function\n",
    "\n"
   ]
  },
  {
   "cell_type": "code",
   "execution_count": 48,
   "id": "bdcc0acd",
   "metadata": {},
   "outputs": [],
   "source": [
    "add_three_number = lambda x, y, z :  x + y + z"
   ]
  },
  {
   "cell_type": "code",
   "execution_count": 49,
   "id": "0522239e",
   "metadata": {},
   "outputs": [
    {
     "data": {
      "text/plain": [
       "102"
      ]
     },
     "execution_count": 49,
     "metadata": {},
     "output_type": "execute_result"
    }
   ],
   "source": [
    "add_three_number(2,99,1)"
   ]
  },
  {
   "cell_type": "code",
   "execution_count": 50,
   "id": "0b521220",
   "metadata": {},
   "outputs": [],
   "source": [
    "second = lambda min: 60 * min\n"
   ]
  },
  {
   "cell_type": "code",
   "execution_count": 51,
   "id": "efd24642",
   "metadata": {},
   "outputs": [
    {
     "data": {
      "text/plain": [
       "360"
      ]
     },
     "execution_count": 51,
     "metadata": {},
     "output_type": "execute_result"
    }
   ],
   "source": [
    "second(6)"
   ]
  },
  {
   "cell_type": "code",
   "execution_count": null,
   "id": "21724998",
   "metadata": {},
   "outputs": [],
   "source": []
  },
  {
   "cell_type": "code",
   "execution_count": 40,
   "id": "d0c0f486",
   "metadata": {},
   "outputs": [
    {
     "data": {
      "text/plain": [
       "15"
      ]
     },
     "execution_count": 40,
     "metadata": {},
     "output_type": "execute_result"
    }
   ],
   "source": [
    "5 +10"
   ]
  },
  {
   "cell_type": "code",
   "execution_count": null,
   "id": "ce807189",
   "metadata": {},
   "outputs": [],
   "source": []
  },
  {
   "cell_type": "code",
   "execution_count": null,
   "id": "772dc5be",
   "metadata": {},
   "outputs": [],
   "source": []
  },
  {
   "cell_type": "code",
   "execution_count": null,
   "id": "bff9bee4",
   "metadata": {},
   "outputs": [],
   "source": []
  },
  {
   "cell_type": "code",
   "execution_count": null,
   "id": "ae3b3502",
   "metadata": {},
   "outputs": [],
   "source": []
  },
  {
   "cell_type": "code",
   "execution_count": null,
   "id": "634ca9cd",
   "metadata": {},
   "outputs": [],
   "source": []
  },
  {
   "cell_type": "code",
   "execution_count": null,
   "id": "d267fead",
   "metadata": {},
   "outputs": [],
   "source": []
  },
  {
   "cell_type": "code",
   "execution_count": 2,
   "id": "340fc05c",
   "metadata": {},
   "outputs": [
    {
     "data": {
      "text/plain": [
       "4.0"
      ]
     },
     "execution_count": 2,
     "metadata": {},
     "output_type": "execute_result"
    }
   ],
   "source": [
    "import numpy as np\n",
    "duration=[1,3,4,5,7,2,9,7,3,7,4,3,2,5,6,8,1,3]\n",
    "np.median(duration)"
   ]
  },
  {
   "cell_type": "code",
   "execution_count": 3,
   "id": "1302153c",
   "metadata": {},
   "outputs": [
    {
     "data": {
      "text/plain": [
       "3"
      ]
     },
     "execution_count": 3,
     "metadata": {},
     "output_type": "execute_result"
    }
   ],
   "source": [
    "import statistics as st\n",
    "st.mode(duration)"
   ]
  },
  {
   "cell_type": "code",
   "execution_count": 4,
   "id": "8dd27891",
   "metadata": {},
   "outputs": [
    {
     "name": "stdout",
     "output_type": "stream",
     "text": [
      "the statistical range of the population age is  78\n"
     ]
    }
   ],
   "source": [
    "population_age= [13,4,50,71,51,60,34,54,34,25,24,60,31,37,79,36,62,24,19,81,27,29,26,27,35,41,50,62,70,24,26,25,42,47,41,\n",
    "                 28,25,37,31,39,3,32,45,32,37,31,27,35,27,31,30,42,46,12,25,27,12,15,70,17,18,26,15,42,16,18,29,25,27,\n",
    "                 30,37,36,48,42,41,12,21,33,22,44,55,11,6,23,7,3,16,34,12,34, 12,31,45,65,24,31,18,64,7,10]\n",
    "\n",
    "\n",
    "import statistics as st\n",
    "import numpy as np\n",
    "\n",
    "ranges=np.ptp(population_age)\n",
    "print(\"the statistical range of the population age is \", ranges)"
   ]
  },
  {
   "cell_type": "code",
   "execution_count": null,
   "id": "9d509467",
   "metadata": {},
   "outputs": [],
   "source": []
  },
  {
   "cell_type": "code",
   "execution_count": null,
   "id": "1a23f3c6",
   "metadata": {},
   "outputs": [],
   "source": []
  },
  {
   "cell_type": "code",
   "execution_count": null,
   "id": "e9d93621",
   "metadata": {},
   "outputs": [],
   "source": []
  },
  {
   "cell_type": "code",
   "execution_count": null,
   "id": "b113c3c2",
   "metadata": {},
   "outputs": [],
   "source": []
  },
  {
   "cell_type": "code",
   "execution_count": null,
   "id": "7ded488c",
   "metadata": {},
   "outputs": [],
   "source": []
  },
  {
   "cell_type": "code",
   "execution_count": null,
   "id": "abc1e70f",
   "metadata": {},
   "outputs": [],
   "source": []
  },
  {
   "cell_type": "code",
   "execution_count": null,
   "id": "2f69d713",
   "metadata": {},
   "outputs": [],
   "source": []
  },
  {
   "cell_type": "code",
   "execution_count": null,
   "id": "51176e27",
   "metadata": {},
   "outputs": [],
   "source": []
  },
  {
   "cell_type": "code",
   "execution_count": null,
   "id": "09aecb9f",
   "metadata": {},
   "outputs": [],
   "source": []
  },
  {
   "cell_type": "code",
   "execution_count": null,
   "id": "ea4621f1",
   "metadata": {},
   "outputs": [],
   "source": []
  },
  {
   "cell_type": "code",
   "execution_count": null,
   "id": "8f7af7f5",
   "metadata": {},
   "outputs": [],
   "source": []
  },
  {
   "cell_type": "code",
   "execution_count": null,
   "id": "b0fad8df",
   "metadata": {},
   "outputs": [],
   "source": []
  },
  {
   "cell_type": "code",
   "execution_count": null,
   "id": "4dcf9543",
   "metadata": {},
   "outputs": [],
   "source": []
  },
  {
   "cell_type": "code",
   "execution_count": null,
   "id": "f8e91b2a",
   "metadata": {},
   "outputs": [],
   "source": []
  },
  {
   "cell_type": "code",
   "execution_count": null,
   "id": "8903c40b",
   "metadata": {},
   "outputs": [],
   "source": []
  },
  {
   "cell_type": "code",
   "execution_count": null,
   "id": "5a074fbf",
   "metadata": {},
   "outputs": [],
   "source": []
  },
  {
   "cell_type": "code",
   "execution_count": null,
   "id": "fe5a6840",
   "metadata": {},
   "outputs": [],
   "source": []
  },
  {
   "cell_type": "code",
   "execution_count": null,
   "id": "954f66ca",
   "metadata": {},
   "outputs": [],
   "source": []
  },
  {
   "cell_type": "code",
   "execution_count": null,
   "id": "799da049",
   "metadata": {},
   "outputs": [],
   "source": []
  },
  {
   "cell_type": "code",
   "execution_count": null,
   "id": "6fef2f9a",
   "metadata": {},
   "outputs": [],
   "source": []
  },
  {
   "cell_type": "code",
   "execution_count": null,
   "id": "9a91ae03",
   "metadata": {},
   "outputs": [],
   "source": []
  },
  {
   "cell_type": "code",
   "execution_count": null,
   "id": "fdadc9a2",
   "metadata": {},
   "outputs": [],
   "source": []
  },
  {
   "cell_type": "code",
   "execution_count": null,
   "id": "b027b2d1",
   "metadata": {},
   "outputs": [],
   "source": []
  },
  {
   "cell_type": "code",
   "execution_count": null,
   "id": "e7e0cdce",
   "metadata": {},
   "outputs": [],
   "source": []
  },
  {
   "cell_type": "code",
   "execution_count": null,
   "id": "1a7efa3b",
   "metadata": {},
   "outputs": [],
   "source": []
  },
  {
   "cell_type": "code",
   "execution_count": null,
   "id": "52c935f6",
   "metadata": {},
   "outputs": [],
   "source": []
  },
  {
   "cell_type": "code",
   "execution_count": null,
   "id": "0f0ad9ea",
   "metadata": {},
   "outputs": [],
   "source": []
  },
  {
   "cell_type": "code",
   "execution_count": null,
   "id": "fb1f48ea",
   "metadata": {},
   "outputs": [],
   "source": []
  },
  {
   "cell_type": "code",
   "execution_count": null,
   "id": "a9a8c49a",
   "metadata": {},
   "outputs": [],
   "source": []
  },
  {
   "cell_type": "code",
   "execution_count": null,
   "id": "1ab0f300",
   "metadata": {},
   "outputs": [],
   "source": [
    "class Car:\n",
    "    def __init__(self):\n",
    "        self.speed = 0  # Initialize the speed attribute to 0 km/hr\n",
    "\n",
    "    def start(self):\n",
    "        print(\"Car started\")\n",
    "        self.speed = 10  # You can set the initial speed to some value when the car starts\n",
    "\n",
    "    def stop(self):\n",
    "        print(\"Car stopped\")\n",
    "        self.speed = 0\n",
    "\n",
    "    def check_speed(self):\n",
    "        if self.speed <= 80:\n",
    "            print(f\"Current speed: {self.speed} km/hr (Safe)\")\n",
    "        else:\n",
    "            print(f\"Current speed: {self.speed} km/hr (Exceeding 80 km/hr - Please slow down)\")\n",
    "\n",
    "# Create an instance of the Car class\n",
    "my_car = Car()\n",
    "\n",
    "# Start the car\n",
    "my_car.start()\n",
    "\n",
    "# Check the speed\n",
    "my_car.check_speed()\n",
    "\n",
    "# Accelerate the car (for demonstration purposes)\n",
    "my_car.speed = 90\n",
    "\n",
    "# Check the speed again\n",
    "my_car.check_speed()\n",
    "\n",
    "# Stop the car\n",
    "my_car.stop()\n"
   ]
  },
  {
   "cell_type": "code",
   "execution_count": null,
   "id": "646c0dc9",
   "metadata": {},
   "outputs": [],
   "source": [
    "class Car:\n",
    "    def __init__(self, make, model, year):\n",
    "        self.make = make\n",
    "        self.model = model\n",
    "        self.year = year\n",
    "        self.speed = 0\n",
    "\n",
    "    def start(self):\n",
    "        print(f\"{self.year} {self.make} {self.model} started\")\n",
    "        self.speed = 10\n",
    "\n",
    "    def stop(self):\n",
    "        print(f\"{self.year} {self.make} {self.model} stopped\")\n",
    "        self.speed = 0\n",
    "\n",
    "    def accelerate(self, amount):\n",
    "        self.speed += amount\n",
    "\n",
    "    def brake(self, amount):\n",
    "        self.speed -= amount\n",
    "\n",
    "    def check_speed(self):\n",
    "        print(f\"Current speed: {self.speed} km/hr\")\n",
    "\n",
    "class ElectricCar(Car):\n",
    "    def __init__(self, make, model, year, battery_capacity):\n",
    "        super().__init__(make, model, year)\n",
    "        self.battery_capacity = battery_capacity\n",
    "        self.charge_level = 100\n",
    "\n",
    "    def charge(self, amount):\n",
    "        self.charge_level += amount\n",
    "        if self.charge_level > 100:\n",
    "            self.charge_level = 100\n",
    "\n",
    "    def discharge(self, amount):\n",
    "        self.charge_level -= amount\n",
    "        if self.charge_level < 0:\n",
    "            self.charge_level = 0\n",
    "\n",
    "    def check_charge(self):\n",
    "        print(f\"Battery charge level: {self.charge_level}%\")\n",
    "\n",
    "# Create an instance of the Car class\n",
    "my_car = Car(\"Toyota\", \"Camry\", 2023)\n",
    "\n",
    "# Start the car\n",
    "my_car.start()\n",
    "my_car.accelerate(30)\n",
    "my_car.check_speed()\n",
    "\n",
    "# Create an instance of the ElectricCar class\n",
    "my_electric_car = ElectricCar(\"Tesla\", \"Model S\", 2023, battery_capacity=75)\n",
    "\n",
    "# Start the electric car\n",
    "my_electric_car.start()\n",
    "my_electric_car.accelerate(40)\n",
    "my_electric_car.check_speed()\n",
    "\n",
    "# Charge the electric car\n",
    "my_electric_car.charge(20)\n",
    "my_electric_car.check_charge()\n"
   ]
  },
  {
   "cell_type": "code",
   "execution_count": 43,
   "id": "3debf2a1",
   "metadata": {},
   "outputs": [],
   "source": [
    "from sklearn.pipeline import Pipeline\n",
    "from sklearn.compose import ColumnTransformer\n",
    "from sklearn.impute import SimpleImputer\n",
    "from sklearn.preprocessing import StandardScaler, OneHotEncoder"
   ]
  },
  {
   "cell_type": "code",
   "execution_count": null,
   "id": "cc3021f1",
   "metadata": {},
   "outputs": [],
   "source": [
    "cat_var = [x for x in df[x] if df[x].dtype==\"object\"] \n",
    "num_var = [x for x in df[x] if df[x].dtype in [\"int\", \"float\"]]\n",
    "\n",
    "num_transfomer = Pipeline([\n",
    "\n",
    "    (\"imputer\", SimpleImputer(strategy=\"mean\")), (\"scaler\", StandardScaler())\n",
    "])\n",
    "\n",
    "\n",
    "\n",
    "cat_transfomer = Pipeline([\n",
    "\n",
    "    (\"imputer\", SimpleImputer(strategy=\"most_frequent\")), (\"scaler\", OneHotEncoder())\n",
    "])\n",
    "\n",
    "\n"
   ]
  },
  {
   "cell_type": "code",
   "execution_count": null,
   "id": "7bb5efef",
   "metadata": {},
   "outputs": [],
   "source": [
    "processor = ColumnTransformer([\n",
    "    \n",
    "    (\"v\", cat_transfomer,  cat_var)\n",
    "])"
   ]
  },
  {
   "cell_type": "code",
   "execution_count": null,
   "id": "98df57d5",
   "metadata": {},
   "outputs": [],
   "source": []
  },
  {
   "cell_type": "code",
   "execution_count": null,
   "id": "bcf1533e",
   "metadata": {},
   "outputs": [],
   "source": []
  },
  {
   "cell_type": "code",
   "execution_count": null,
   "id": "7fc81534",
   "metadata": {},
   "outputs": [],
   "source": []
  },
  {
   "cell_type": "code",
   "execution_count": 32,
   "id": "d8a5ad76",
   "metadata": {},
   "outputs": [],
   "source": [
    "class car:\n",
    "    def  __init__ (self, maker, model, year):\n",
    "        self.maker = maker\n",
    "        self.model = model\n",
    "        self.year = year\n",
    "        self.speed= 0\n",
    "    \n",
    "    def start(self):\n",
    "        if self.speed>0:\n",
    "            print(\"already started\")\n",
    "        else:\n",
    "            print(f\"{self.maker} {self.model} {self.year} started\")\n",
    "            self.speed=10\n",
    "        \n",
    "    def accelerate(self, amount):\n",
    "        self.speed+=amount\n",
    "        \n",
    "    def brake(self, amount):\n",
    "        self.speed-=amount\n",
    "        \n",
    "    def check_speed(self):\n",
    "        print(f\"current speed is {self.speed} km/hr\")\n",
    "        \n",
    "    def stop(self):\n",
    "        print(f\"{self.maker} {self.model} {self.year} stopped\")\n",
    "        self.speed=0\n",
    "        "
   ]
  },
  {
   "cell_type": "code",
   "execution_count": 33,
   "id": "6e5c5c63",
   "metadata": {},
   "outputs": [],
   "source": [
    "first_car = car(\"Toyota\", \"cla\", 2000)"
   ]
  },
  {
   "cell_type": "code",
   "execution_count": 34,
   "id": "b6ada0d6",
   "metadata": {},
   "outputs": [
    {
     "name": "stdout",
     "output_type": "stream",
     "text": [
      "Toyota cla 2000 started\n"
     ]
    }
   ],
   "source": [
    "first_car.start()"
   ]
  },
  {
   "cell_type": "code",
   "execution_count": 35,
   "id": "55d1476e",
   "metadata": {},
   "outputs": [],
   "source": [
    "first_car.accelerate(19)"
   ]
  },
  {
   "cell_type": "code",
   "execution_count": 36,
   "id": "dd3524e5",
   "metadata": {},
   "outputs": [
    {
     "name": "stdout",
     "output_type": "stream",
     "text": [
      "current speed is 29 km/hr\n"
     ]
    }
   ],
   "source": [
    "first_car.check_speed()"
   ]
  },
  {
   "cell_type": "code",
   "execution_count": 37,
   "id": "c4244507",
   "metadata": {},
   "outputs": [],
   "source": [
    "first_car.brake(2)"
   ]
  },
  {
   "cell_type": "code",
   "execution_count": 38,
   "id": "ee488229",
   "metadata": {},
   "outputs": [
    {
     "name": "stdout",
     "output_type": "stream",
     "text": [
      "current speed is 27 km/hr\n"
     ]
    }
   ],
   "source": [
    "first_car.check_speed()"
   ]
  },
  {
   "cell_type": "code",
   "execution_count": 39,
   "id": "a960a6be",
   "metadata": {},
   "outputs": [
    {
     "name": "stdout",
     "output_type": "stream",
     "text": [
      "Toyota cla 2000 stopped\n"
     ]
    }
   ],
   "source": [
    "first_car.stop()"
   ]
  },
  {
   "cell_type": "code",
   "execution_count": 44,
   "id": "d8db5793",
   "metadata": {},
   "outputs": [
    {
     "name": "stdout",
     "output_type": "stream",
     "text": [
      "2\n",
      "1 * 2 is 2\n",
      "2 * 2 is 4\n",
      "3 * 2 is 6\n",
      "4 * 2 is 8\n",
      "5 * 2 is 10\n",
      "6 * 2 is 12\n",
      "7 * 2 is 14\n",
      "8 * 2 is 16\n",
      "9 * 2 is 18\n",
      "10 * 2 is 20\n"
     ]
    }
   ],
   "source": [
    "n = int(input())\n",
    "for i in range(1,11):\n",
    "    y = n * i\n",
    "    print(f\"{i} * {n} is {y}\" )"
   ]
  },
  {
   "cell_type": "code",
   "execution_count": null,
   "id": "e44c6c37",
   "metadata": {},
   "outputs": [],
   "source": []
  },
  {
   "cell_type": "code",
   "execution_count": 4,
   "id": "bc68b346",
   "metadata": {},
   "outputs": [
    {
     "name": "stdout",
     "output_type": "stream",
     "text": [
      "Enter a number: 5\n",
      "Multiplication table for 5:\n",
      "5 x 1 = 5\n",
      "5 x 2 = 10\n",
      "5 x 3 = 15\n",
      "5 x 4 = 20\n",
      "5 x 5 = 25\n",
      "5 x 6 = 30\n",
      "5 x 7 = 35\n",
      "5 x 8 = 40\n",
      "5 x 9 = 45\n",
      "5 x 10 = 50\n"
     ]
    }
   ],
   "source": [
    "def generate_multiplication_table(n):\n",
    "    print(f\"Multiplication table for {n}:\")\n",
    "    for i in range(1, 11):  # Loop from 1 to 10 to generate the first 10 multiples\n",
    "        result = n * i\n",
    "        print(f\"{n} x {i} = {result}\")\n",
    "\n",
    "# Get the number from the user\n",
    "try:\n",
    "    n = int(input(\"Enter a number: \"))\n",
    "    generate_multiplication_table(n)\n",
    "except ValueError:\n",
    "    print(\"Please enter a valid number.\")"
   ]
  },
  {
   "cell_type": "code",
   "execution_count": 6,
   "id": "08035bb5",
   "metadata": {},
   "outputs": [
    {
     "name": "stdout",
     "output_type": "stream",
     "text": [
      "Enter a list of words (comma-separated): d,t,y\n",
      "d: 0 vowels\n",
      "t: 0 vowels\n",
      "y: 0 vowels\n"
     ]
    }
   ],
   "source": [
    "def count_vowels(word):\n",
    "    # Define a list of vowels\n",
    "    vowels = \"aeiouAEIOU\"\n",
    "    \n",
    "    # Initialize a count to zero\n",
    "    vowel_count = 0\n",
    "\n",
    "    # Iterate over each character in the word\n",
    "    for char in word:\n",
    "        if char in vowels:\n",
    "            vowel_count += 1\n",
    "\n",
    "    return vowel_count\n",
    "\n",
    "# Get a list of words from the user (comma-separated)\n",
    "words = input(\"Enter a list of words (comma-separated): \").split(\",\")\n",
    "\n",
    "# Iterate through the list of words and count vowels in each word\n",
    "for word in words:\n",
    "    word = word.strip()  # Remove leading/trailing spaces\n",
    "    vowel_count = count_vowels(word)\n",
    "    print(f\"{word}: {vowel_count} vowels\")\n"
   ]
  },
  {
   "cell_type": "code",
   "execution_count": null,
   "id": "ceff2fab",
   "metadata": {},
   "outputs": [],
   "source": []
  },
  {
   "cell_type": "code",
   "execution_count": null,
   "id": "4c67ab18",
   "metadata": {},
   "outputs": [],
   "source": []
  },
  {
   "cell_type": "code",
   "execution_count": null,
   "id": "f1834ed8",
   "metadata": {},
   "outputs": [],
   "source": []
  },
  {
   "cell_type": "code",
   "execution_count": null,
   "id": "804bffbe",
   "metadata": {},
   "outputs": [],
   "source": []
  },
  {
   "cell_type": "code",
   "execution_count": null,
   "id": "2afe54d5",
   "metadata": {},
   "outputs": [],
   "source": []
  },
  {
   "cell_type": "code",
   "execution_count": null,
   "id": "ffbe67f4",
   "metadata": {},
   "outputs": [],
   "source": []
  },
  {
   "cell_type": "code",
   "execution_count": 2,
   "id": "b709c0e1",
   "metadata": {},
   "outputs": [
    {
     "data": {
      "text/html": [
       "<div>\n",
       "<style scoped>\n",
       "    .dataframe tbody tr th:only-of-type {\n",
       "        vertical-align: middle;\n",
       "    }\n",
       "\n",
       "    .dataframe tbody tr th {\n",
       "        vertical-align: top;\n",
       "    }\n",
       "\n",
       "    .dataframe thead th {\n",
       "        text-align: right;\n",
       "    }\n",
       "</style>\n",
       "<table border=\"1\" class=\"dataframe\">\n",
       "  <thead>\n",
       "    <tr style=\"text-align: right;\">\n",
       "      <th></th>\n",
       "      <th>Brand</th>\n",
       "      <th>Year</th>\n",
       "      <th>Sold</th>\n",
       "    </tr>\n",
       "  </thead>\n",
       "  <tbody>\n",
       "    <tr>\n",
       "      <th>0</th>\n",
       "      <td>Maruti</td>\n",
       "      <td>2010</td>\n",
       "      <td>6</td>\n",
       "    </tr>\n",
       "    <tr>\n",
       "      <th>1</th>\n",
       "      <td>Maruti</td>\n",
       "      <td>2011</td>\n",
       "      <td>7</td>\n",
       "    </tr>\n",
       "    <tr>\n",
       "      <th>2</th>\n",
       "      <td>Maruti</td>\n",
       "      <td>2009</td>\n",
       "      <td>9</td>\n",
       "    </tr>\n",
       "    <tr>\n",
       "      <th>3</th>\n",
       "      <td>Maruti</td>\n",
       "      <td>2013</td>\n",
       "      <td>8</td>\n",
       "    </tr>\n",
       "    <tr>\n",
       "      <th>4</th>\n",
       "      <td>Hyundai</td>\n",
       "      <td>2010</td>\n",
       "      <td>3</td>\n",
       "    </tr>\n",
       "    <tr>\n",
       "      <th>5</th>\n",
       "      <td>Hyundai</td>\n",
       "      <td>2011</td>\n",
       "      <td>5</td>\n",
       "    </tr>\n",
       "    <tr>\n",
       "      <th>6</th>\n",
       "      <td>Toyota</td>\n",
       "      <td>2011</td>\n",
       "      <td>2</td>\n",
       "    </tr>\n",
       "    <tr>\n",
       "      <th>7</th>\n",
       "      <td>Mahindra</td>\n",
       "      <td>2010</td>\n",
       "      <td>8</td>\n",
       "    </tr>\n",
       "    <tr>\n",
       "      <th>8</th>\n",
       "      <td>Mahindra</td>\n",
       "      <td>2013</td>\n",
       "      <td>7</td>\n",
       "    </tr>\n",
       "    <tr>\n",
       "      <th>9</th>\n",
       "      <td>Ford</td>\n",
       "      <td>2010</td>\n",
       "      <td>2</td>\n",
       "    </tr>\n",
       "    <tr>\n",
       "      <th>10</th>\n",
       "      <td>Toyota</td>\n",
       "      <td>2010</td>\n",
       "      <td>4</td>\n",
       "    </tr>\n",
       "    <tr>\n",
       "      <th>11</th>\n",
       "      <td>Ford</td>\n",
       "      <td>2011</td>\n",
       "      <td>2</td>\n",
       "    </tr>\n",
       "  </tbody>\n",
       "</table>\n",
       "</div>"
      ],
      "text/plain": [
       "       Brand  Year  Sold\n",
       "0     Maruti  2010     6\n",
       "1     Maruti  2011     7\n",
       "2     Maruti  2009     9\n",
       "3     Maruti  2013     8\n",
       "4    Hyundai  2010     3\n",
       "5    Hyundai  2011     5\n",
       "6     Toyota  2011     2\n",
       "7   Mahindra  2010     8\n",
       "8   Mahindra  2013     7\n",
       "9       Ford  2010     2\n",
       "10    Toyota  2010     4\n",
       "11      Ford  2011     2"
      ]
     },
     "execution_count": 2,
     "metadata": {},
     "output_type": "execute_result"
    }
   ],
   "source": [
    "import pandas as pd\n",
    "car_selling_data = {'Brand': ['Maruti', 'Maruti', 'Maruti',\n",
    "                              'Maruti', 'Hyundai', 'Hyundai',\n",
    "                              'Toyota', 'Mahindra', 'Mahindra',\n",
    "                              'Ford', 'Toyota', 'Ford'],\n",
    "                    'Year':  [2010, 2011, 2009, 2013,\n",
    "                              2010, 2011, 2011, 2010,\n",
    "                              2013, 2010, 2010, 2011],\n",
    "                    'Sold': [6, 7, 9, 8, 3, 5,\n",
    "                             2, 8, 7, 2, 4, 2]}\n",
    " \n",
    "# Creating Dataframe for Provided Data\n",
    "df = pd.DataFrame(car_selling_data)\n",
    "df"
   ]
  },
  {
   "cell_type": "code",
   "execution_count": 3,
   "id": "1db1f59c",
   "metadata": {},
   "outputs": [
    {
     "data": {
      "text/plain": [
       "<pandas.core.groupby.generic.DataFrameGroupBy object at 0x000001D9CABD0670>"
      ]
     },
     "execution_count": 3,
     "metadata": {},
     "output_type": "execute_result"
    }
   ],
   "source": [
    "# Group the data when year = 2010\n",
    "grouped = df.groupby('Year')\n",
    "grouped"
   ]
  },
  {
   "cell_type": "code",
   "execution_count": 4,
   "id": "5df5ae6b",
   "metadata": {},
   "outputs": [
    {
     "data": {
      "text/html": [
       "<div>\n",
       "<style scoped>\n",
       "    .dataframe tbody tr th:only-of-type {\n",
       "        vertical-align: middle;\n",
       "    }\n",
       "\n",
       "    .dataframe tbody tr th {\n",
       "        vertical-align: top;\n",
       "    }\n",
       "\n",
       "    .dataframe thead th {\n",
       "        text-align: right;\n",
       "    }\n",
       "</style>\n",
       "<table border=\"1\" class=\"dataframe\">\n",
       "  <thead>\n",
       "    <tr style=\"text-align: right;\">\n",
       "      <th></th>\n",
       "      <th>Brand</th>\n",
       "      <th>Year</th>\n",
       "      <th>Sold</th>\n",
       "    </tr>\n",
       "  </thead>\n",
       "  <tbody>\n",
       "    <tr>\n",
       "      <th>0</th>\n",
       "      <td>Maruti</td>\n",
       "      <td>2010</td>\n",
       "      <td>6</td>\n",
       "    </tr>\n",
       "    <tr>\n",
       "      <th>4</th>\n",
       "      <td>Hyundai</td>\n",
       "      <td>2010</td>\n",
       "      <td>3</td>\n",
       "    </tr>\n",
       "    <tr>\n",
       "      <th>7</th>\n",
       "      <td>Mahindra</td>\n",
       "      <td>2010</td>\n",
       "      <td>8</td>\n",
       "    </tr>\n",
       "    <tr>\n",
       "      <th>9</th>\n",
       "      <td>Ford</td>\n",
       "      <td>2010</td>\n",
       "      <td>2</td>\n",
       "    </tr>\n",
       "    <tr>\n",
       "      <th>10</th>\n",
       "      <td>Toyota</td>\n",
       "      <td>2010</td>\n",
       "      <td>4</td>\n",
       "    </tr>\n",
       "  </tbody>\n",
       "</table>\n",
       "</div>"
      ],
      "text/plain": [
       "       Brand  Year  Sold\n",
       "0     Maruti  2010     6\n",
       "4    Hyundai  2010     3\n",
       "7   Mahindra  2010     8\n",
       "9       Ford  2010     2\n",
       "10    Toyota  2010     4"
      ]
     },
     "execution_count": 4,
     "metadata": {},
     "output_type": "execute_result"
    }
   ],
   "source": [
    "grouped.get_group(2010)"
   ]
  },
  {
   "cell_type": "code",
   "execution_count": null,
   "id": "037b830f",
   "metadata": {},
   "outputs": [],
   "source": [
    "# change of code\n",
    "import pandas as pd\n",
    "car_selling_data = {'Brand': ['Maruti', 'Maruti', 'Maruti',\n",
    "                              'Maruti', 'Hyundai', 'Hyundai',\n",
    "                              'Toyota', 'Mahindra', 'Mahindra',\n",
    "                              'Ford', 'Toyota', 'Ford'],\n",
    "                    'Year':  [2010, 2011, 2009, 2013,\n",
    "                              2010, 2011, 2011, 2010,\n",
    "                              2013, 2010, 2010, 2011],\n",
    "                    'Sold': [6, 7, 9, 8, 3, 5,\n",
    "                             2, 8, 7, 2, 4, 2]}\n",
    " \n",
    "# Creating Dataframe for Provided Data\n",
    "df = pd.DataFrame(car_selling_data)\n",
    "df"
   ]
  },
  {
   "cell_type": "code",
   "execution_count": null,
   "id": "69cd02fe",
   "metadata": {},
   "outputs": [],
   "source": []
  },
  {
   "cell_type": "code",
   "execution_count": null,
   "id": "f90edfab",
   "metadata": {},
   "outputs": [],
   "source": [
    "# change of code\n",
    "import pandas as pd\n",
    "car_selling_data = {'Brand': ['Maruti', 'Maruti', 'Maruti',\n",
    "                              'Maruti', 'Hyundai', 'Hyundai',\n",
    "                              'Toyota', 'Mahindra', 'Mahindra',\n",
    "                              'Ford', 'Toyota', 'Ford'],\n",
    "                    'Year':  [2010, 2011, 2009, 2013,\n",
    "                              2010, 2011, 2011, 2010,\n",
    "                              2013, 2010, 2010, 2011],\n",
    "                    'Sold': [6, 7, 9, 8, 3, 5,\n",
    "                             2, 8, 7, 2, 4, 2]}\n",
    " \n",
    "# Creating Dataframe for Provided Data\n",
    "df = pd.DataFrame(car_selling_data)\n",
    "df"
   ]
  },
  {
   "cell_type": "code",
   "execution_count": null,
   "id": "45ff1248",
   "metadata": {},
   "outputs": [],
   "source": []
  },
  {
   "cell_type": "markdown",
   "id": "1fcdfa9b",
   "metadata": {},
   "source": [
    "# OOP (Object Oriented Program)\n",
    "\n",
    "oop is the paradigm of arranging codes in classes and object for easy access and reused\n"
   ]
  },
  {
   "cell_type": "code",
   "execution_count": null,
   "id": "627fb160",
   "metadata": {},
   "outputs": [],
   "source": [
    "class FirstClass:\n",
    "    pass  # a class without any attribute or method"
   ]
  },
  {
   "cell_type": "code",
   "execution_count": 6,
   "id": "c2ba113d",
   "metadata": {},
   "outputs": [],
   "source": [
    "class person:\n",
    "    def __init__(self, name, age):\n",
    "       self.name = name    \n",
    "       self.age = age\n",
    "        \n",
    "    def greet(self):\n",
    "        print(f\" my name is {self.name} and i am {self.age} years old, i hearby welcome everyone!\")\n",
    "        \n",
    "    def class_check(self):\n",
    "        print(\"we are the of 2017\")"
   ]
  },
  {
   "cell_type": "code",
   "execution_count": null,
   "id": "786350b5",
   "metadata": {},
   "outputs": [],
   "source": []
  },
  {
   "cell_type": "code",
   "execution_count": 7,
   "id": "a61908ba",
   "metadata": {},
   "outputs": [],
   "source": [
    "# creating object from the class of person\n",
    "p1 = person(\"olaitan\", 12)"
   ]
  },
  {
   "cell_type": "code",
   "execution_count": 8,
   "id": "329f3e46",
   "metadata": {},
   "outputs": [
    {
     "name": "stdout",
     "output_type": "stream",
     "text": [
      " my name is olaitan and i am 12 years old, i hearby welcome everyone!\n"
     ]
    }
   ],
   "source": [
    "p1.greet()"
   ]
  },
  {
   "cell_type": "code",
   "execution_count": 9,
   "id": "88d1ea66",
   "metadata": {},
   "outputs": [
    {
     "name": "stdout",
     "output_type": "stream",
     "text": [
      "we are the of 2017\n"
     ]
    }
   ],
   "source": [
    "p1.class_check()"
   ]
  },
  {
   "cell_type": "code",
   "execution_count": null,
   "id": "eba9773a",
   "metadata": {},
   "outputs": [],
   "source": []
  },
  {
   "cell_type": "code",
   "execution_count": null,
   "id": "d2bf46f2",
   "metadata": {},
   "outputs": [],
   "source": [
    "# create class of car with attribute of make, model, and year\n",
    "# and method start, accelerate, brake, accelerate_check."
   ]
  },
  {
   "cell_type": "code",
   "execution_count": 34,
   "id": "81457fb8",
   "metadata": {},
   "outputs": [],
   "source": [
    "class Car:\n",
    "    def __init__(self, make, model, year):\n",
    "        self.make = make\n",
    "        self.model = model\n",
    "        self.year = year\n",
    "        self.speed = 0\n",
    "        \n",
    "    def start(self):\n",
    "        if self.speed==0:\n",
    "            print(f\"{self.make} {self.model} {self.year} car has Started!!\")\n",
    "            self.speed=2\n",
    "        else:\n",
    "            print(f\"{self.make} {self.model} {self.year} car has already Started!!\")\n",
    "            \n",
    "    def accelerate(self, amount):\n",
    "        self.speed+=amount \n",
    "        \n",
    "    def brake(self, amount):\n",
    "        self.speed-=amount\n",
    "        \n",
    "    def accelerate_check(self):\n",
    "        if self.speed<=80:\n",
    "            print(f\"the current speed of {self.make} {self.model} {self.year} car is {self.speed} km/hr\")\n",
    "            \n",
    "        else:\n",
    "            print(f\"the current speed of {self.make} {self.model} {self.year} car is {self.speed} km/hr you may need to slow down\")\n",
    "            "
   ]
  },
  {
   "cell_type": "code",
   "execution_count": 35,
   "id": "1d201994",
   "metadata": {},
   "outputs": [],
   "source": [
    "car1 = Car(\"Toyota\", \"camry\", 2017)"
   ]
  },
  {
   "cell_type": "code",
   "execution_count": 36,
   "id": "f964f8f0",
   "metadata": {},
   "outputs": [
    {
     "name": "stdout",
     "output_type": "stream",
     "text": [
      "Toyota camry 2017 car has Started!!\n"
     ]
    }
   ],
   "source": [
    "car1.start()"
   ]
  },
  {
   "cell_type": "code",
   "execution_count": 37,
   "id": "fe010dc5",
   "metadata": {},
   "outputs": [
    {
     "name": "stdout",
     "output_type": "stream",
     "text": [
      "Toyota camry 2017 car has already Started!!\n"
     ]
    }
   ],
   "source": [
    "car1.start()"
   ]
  },
  {
   "cell_type": "code",
   "execution_count": 38,
   "id": "23538a52",
   "metadata": {},
   "outputs": [
    {
     "name": "stdout",
     "output_type": "stream",
     "text": [
      "the current speed of Toyota camry 2017 car is 2 km/hr\n"
     ]
    }
   ],
   "source": [
    " car1.accelerate_check()"
   ]
  },
  {
   "cell_type": "code",
   "execution_count": 39,
   "id": "e1d1ced8",
   "metadata": {},
   "outputs": [],
   "source": [
    "car1.accelerate(25)"
   ]
  },
  {
   "cell_type": "code",
   "execution_count": 40,
   "id": "99a5648f",
   "metadata": {},
   "outputs": [
    {
     "name": "stdout",
     "output_type": "stream",
     "text": [
      "the current speed of Toyota camry 2017 car is 27 km/hr\n"
     ]
    }
   ],
   "source": [
    " car1.accelerate_check()"
   ]
  },
  {
   "cell_type": "code",
   "execution_count": 41,
   "id": "1b74ac17",
   "metadata": {},
   "outputs": [],
   "source": [
    "car1.accelerate(125)"
   ]
  },
  {
   "cell_type": "code",
   "execution_count": 42,
   "id": "99ce7964",
   "metadata": {},
   "outputs": [
    {
     "name": "stdout",
     "output_type": "stream",
     "text": [
      "the current speed of Toyota camry 2017 car is 152 km/hr you may need to slow down\n"
     ]
    }
   ],
   "source": [
    " car1.accelerate_check()"
   ]
  },
  {
   "cell_type": "code",
   "execution_count": 43,
   "id": "06f3eaa0",
   "metadata": {},
   "outputs": [],
   "source": [
    "car1.brake(100)"
   ]
  },
  {
   "cell_type": "code",
   "execution_count": 44,
   "id": "4a76d4ec",
   "metadata": {},
   "outputs": [
    {
     "name": "stdout",
     "output_type": "stream",
     "text": [
      "the current speed of Toyota camry 2017 car is 52 km/hr\n"
     ]
    }
   ],
   "source": [
    " car1.accelerate_check()"
   ]
  },
  {
   "cell_type": "code",
   "execution_count": null,
   "id": "7f7f924b",
   "metadata": {},
   "outputs": [],
   "source": []
  },
  {
   "cell_type": "code",
   "execution_count": null,
   "id": "9a132b32",
   "metadata": {},
   "outputs": [],
   "source": []
  },
  {
   "cell_type": "code",
   "execution_count": null,
   "id": "00035c39",
   "metadata": {},
   "outputs": [],
   "source": []
  },
  {
   "cell_type": "code",
   "execution_count": null,
   "id": "70570b20",
   "metadata": {},
   "outputs": [],
   "source": []
  },
  {
   "cell_type": "code",
   "execution_count": null,
   "id": "89d04df1",
   "metadata": {},
   "outputs": [],
   "source": []
  },
  {
   "cell_type": "code",
   "execution_count": null,
   "id": "23253cbb",
   "metadata": {},
   "outputs": [],
   "source": []
  },
  {
   "cell_type": "code",
   "execution_count": null,
   "id": "a1ddc3c1",
   "metadata": {},
   "outputs": [],
   "source": []
  },
  {
   "cell_type": "code",
   "execution_count": null,
   "id": "cde354d3",
   "metadata": {},
   "outputs": [],
   "source": []
  },
  {
   "cell_type": "code",
   "execution_count": null,
   "id": "e41cc373",
   "metadata": {},
   "outputs": [],
   "source": []
  },
  {
   "cell_type": "code",
   "execution_count": null,
   "id": "14c8bae5",
   "metadata": {},
   "outputs": [],
   "source": []
  },
  {
   "cell_type": "code",
   "execution_count": null,
   "id": "589d0279",
   "metadata": {},
   "outputs": [],
   "source": []
  },
  {
   "cell_type": "code",
   "execution_count": null,
   "id": "3b5d283a",
   "metadata": {},
   "outputs": [],
   "source": []
  },
  {
   "cell_type": "code",
   "execution_count": null,
   "id": "344f68f5",
   "metadata": {},
   "outputs": [],
   "source": []
  },
  {
   "cell_type": "code",
   "execution_count": null,
   "id": "0c96ed0f",
   "metadata": {},
   "outputs": [],
   "source": []
  },
  {
   "cell_type": "code",
   "execution_count": null,
   "id": "c010b0e4",
   "metadata": {},
   "outputs": [],
   "source": []
  },
  {
   "cell_type": "code",
   "execution_count": null,
   "id": "848fab21",
   "metadata": {},
   "outputs": [],
   "source": []
  },
  {
   "cell_type": "code",
   "execution_count": null,
   "id": "13846771",
   "metadata": {},
   "outputs": [],
   "source": []
  }
 ],
 "metadata": {
  "kernelspec": {
   "display_name": "Python 3 (ipykernel)",
   "language": "python",
   "name": "python3"
  },
  "language_info": {
   "codemirror_mode": {
    "name": "ipython",
    "version": 3
   },
   "file_extension": ".py",
   "mimetype": "text/x-python",
   "name": "python",
   "nbconvert_exporter": "python",
   "pygments_lexer": "ipython3",
   "version": "3.9.13"
  }
 },
 "nbformat": 4,
 "nbformat_minor": 5
}
