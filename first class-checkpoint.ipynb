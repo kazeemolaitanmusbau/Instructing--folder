{
 "cells": [
  {
   "cell_type": "markdown",
   "id": "b7ad9ec3",
   "metadata": {},
   "source": [
    "# Control Flow in Python\n",
    "is the order at which python execute the statement or syntax\n",
    "\n",
    "### 1. Conditional Statement\n",
    "    a. if\n",
    "    b. elif\n",
    "    c. else\n",
    "    \n",
    "###  2. Loop Statement\n",
    "     a. for\n",
    "     b. while\n",
    "     \n",
    "     \n",
    " ### 3. Loop Control Statement\n",
    "      a break\n",
    "      b. continue\n",
    "  \n",
    "### 4. Error Handling Statement\n",
    "     a. try\n",
    "     b. except\n",
    "     c. finally"
   ]
  },
  {
   "cell_type": "code",
   "execution_count": 3,
   "id": "284b1271",
   "metadata": {},
   "outputs": [
    {
     "name": "stdout",
     "output_type": "stream",
     "text": [
      "we are good to go!\n"
     ]
    }
   ],
   "source": [
    "# if \n",
    "a = 10\n",
    "if a > 5:\n",
    "    print(\"we are good to go!\")"
   ]
  },
  {
   "cell_type": "code",
   "execution_count": 4,
   "id": "8ae4f086",
   "metadata": {},
   "outputs": [],
   "source": [
    "# if \n",
    "a = 10\n",
    "if a < 5:\n",
    "    print(\"we are good to go!\")"
   ]
  },
  {
   "cell_type": "code",
   "execution_count": 5,
   "id": "4f8540c2",
   "metadata": {},
   "outputs": [
    {
     "name": "stdout",
     "output_type": "stream",
     "text": [
      "we are good to go!\n"
     ]
    }
   ],
   "source": [
    "# if and else statement\n",
    "\n",
    "b = 15\n",
    "\n",
    "if b > 15:\n",
    "    print(\"we may need to wait!\")\n",
    "else:\n",
    "    print(\"we are good to go!\")"
   ]
  },
  {
   "cell_type": "code",
   "execution_count": 6,
   "id": "2f079b09",
   "metadata": {},
   "outputs": [
    {
     "name": "stdout",
     "output_type": "stream",
     "text": [
      "Ade is a man\n"
     ]
    }
   ],
   "source": [
    "a = 10\n",
    "b = 20\n",
    "\n",
    "if (a>15) and (b==20):\n",
    "    print(\"we need people to talk\")\n",
    "    \n",
    "elif (a==10) and (b>15):\n",
    "    print(\"Ade is a man\")\n",
    "    \n",
    "elif (a>=10) and (b==20):\n",
    "    print(\"we are the people\")\n",
    "else:\n",
    "    print(\"non of the above condition is met!\")"
   ]
  },
  {
   "cell_type": "markdown",
   "id": "b323d60a",
   "metadata": {},
   "source": [
    "# Nested if"
   ]
  },
  {
   "cell_type": "code",
   "execution_count": 14,
   "id": "aa0f690c",
   "metadata": {},
   "outputs": [
    {
     "name": "stdout",
     "output_type": "stream",
     "text": [
      "please enter your age 77\n",
      "do you have a pvc yes\n",
      "what is your polling units OLoWoiRA\n",
      "vote for Mr A\n"
     ]
    }
   ],
   "source": [
    "age = int( input(\"please enter your age \"))\n",
    "if age>= 18:\n",
    "    pvc = input(\"do you have a pvc \").lower()\n",
    "    if pvc == \"yes\":\n",
    "        lga= input(\"what is your polling units \").lower()\n",
    "        if lga==\"olowoira\":\n",
    "            print(\"vote for Mr A\")\n",
    "        else:\n",
    "            print(\"you can vote for any person you wish\")\n",
    "    else:\n",
    "        print(\"go the Mr James to collect your pvc, and come back to vote\")\n",
    "else:\n",
    "    print(\"come back when you are 18\")"
   ]
  },
  {
   "cell_type": "code",
   "execution_count": 16,
   "id": "b44f2439",
   "metadata": {},
   "outputs": [
    {
     "name": "stdout",
     "output_type": "stream",
     "text": [
      "1\n",
      "2\n",
      "3\n",
      "4\n",
      "5\n",
      "6\n",
      "7\n",
      "8\n",
      "9\n",
      "10\n",
      "11\n",
      "12\n",
      "13\n",
      "14\n",
      "15\n",
      "16\n",
      "171\n",
      "18\n",
      "19\n",
      "20\n"
     ]
    }
   ],
   "source": [
    "# for loop\n",
    "ages = [1,2,3,4,5,6,7,8,9,10,11,12,13,14,15,16,171,18,19,20] \n",
    "\n",
    "for age in ages:\n",
    "    print(age)"
   ]
  },
  {
   "cell_type": "code",
   "execution_count": 17,
   "id": "597843f3",
   "metadata": {},
   "outputs": [
    {
     "ename": "TypeError",
     "evalue": "'int' object is not iterable",
     "output_type": "error",
     "traceback": [
      "\u001b[1;31m---------------------------------------------------------------------------\u001b[0m",
      "\u001b[1;31mTypeError\u001b[0m                                 Traceback (most recent call last)",
      "\u001b[1;32m~\\AppData\\Local\\Temp\\ipykernel_14320\\1856874905.py\u001b[0m in \u001b[0;36m<module>\u001b[1;34m\u001b[0m\n\u001b[0;32m      1\u001b[0m \u001b[0ma\u001b[0m \u001b[1;33m=\u001b[0m \u001b[1;36m5\u001b[0m\u001b[1;33m\u001b[0m\u001b[1;33m\u001b[0m\u001b[0m\n\u001b[1;32m----> 2\u001b[1;33m \u001b[1;32mfor\u001b[0m \u001b[0mi\u001b[0m \u001b[1;32min\u001b[0m \u001b[0ma\u001b[0m\u001b[1;33m:\u001b[0m\u001b[1;33m\u001b[0m\u001b[1;33m\u001b[0m\u001b[0m\n\u001b[0m\u001b[0;32m      3\u001b[0m     \u001b[0mprint\u001b[0m\u001b[1;33m(\u001b[0m\u001b[0mi\u001b[0m\u001b[1;33m)\u001b[0m\u001b[1;33m\u001b[0m\u001b[1;33m\u001b[0m\u001b[0m\n",
      "\u001b[1;31mTypeError\u001b[0m: 'int' object is not iterable"
     ]
    }
   ],
   "source": [
    "a = 5\n",
    "for i in a:\n",
    "    print(i)"
   ]
  },
  {
   "cell_type": "markdown",
   "id": "6a99b755",
   "metadata": {},
   "source": [
    "range(index  :position:step)"
   ]
  },
  {
   "cell_type": "code",
   "execution_count": 22,
   "id": "864cf78c",
   "metadata": {},
   "outputs": [
    {
     "name": "stdout",
     "output_type": "stream",
     "text": [
      "0\n",
      "2\n",
      "4\n",
      "6\n",
      "8\n",
      "10\n",
      "12\n",
      "14\n",
      "16\n",
      "18\n",
      "20\n"
     ]
    }
   ],
   "source": [
    "for i in range(0, 22, 2): # iterable element\n",
    "    print(i)"
   ]
  },
  {
   "cell_type": "code",
   "execution_count": 23,
   "id": "0e4b84c1",
   "metadata": {},
   "outputs": [],
   "source": [
    "# seperate the odd ages and the even ages from the list of ages below\n",
    "ages = [1,2,3,4,5,6,7,8,9,10,11,12,13,14,15,16,171,18,19,20] \n",
    "odd_ages = []\n",
    "even_ages = []\n",
    "for age in ages:\n",
    "    if age%2==0:\n",
    "        even_ages.append(age)\n",
    "    else:\n",
    "        odd_ages.append(age)"
   ]
  },
  {
   "cell_type": "code",
   "execution_count": 25,
   "id": "bfae7ba6",
   "metadata": {},
   "outputs": [
    {
     "name": "stdout",
     "output_type": "stream",
     "text": [
      "[1, 3, 5, 7, 9, 11, 13, 15, 171, 19]\n"
     ]
    }
   ],
   "source": [
    "print(odd_ages)"
   ]
  },
  {
   "cell_type": "code",
   "execution_count": 26,
   "id": "e0a3bc20",
   "metadata": {},
   "outputs": [
    {
     "name": "stdout",
     "output_type": "stream",
     "text": [
      "[2, 4, 6, 8, 10, 12, 14, 16, 18, 20]\n"
     ]
    }
   ],
   "source": [
    "print(even_ages)"
   ]
  },
  {
   "cell_type": "code",
   "execution_count": 28,
   "id": "96b3a517",
   "metadata": {},
   "outputs": [
    {
     "name": "stdout",
     "output_type": "stream",
     "text": [
      "python is fun to learn 0\n",
      "python is fun to learn 1\n",
      "python is fun to learn 2\n",
      "python is fun to learn 3\n",
      "python is fun to learn 4\n",
      "python is fun to learn 5\n"
     ]
    }
   ],
   "source": [
    "# while\n",
    "a= 0\n",
    "while a<=5:\n",
    "    print(\"python is fun to learn {}\".format(a))\n",
    "    a+=1"
   ]
  },
  {
   "cell_type": "code",
   "execution_count": 39,
   "id": "aef2b59e",
   "metadata": {},
   "outputs": [
    {
     "name": "stdout",
     "output_type": "stream",
     "text": [
      "input A to vote for Mr A, or B to vote for Mr B a\n",
      "input A to vote for Mr A, or B to vote for Mr B x\n",
      "input A to vote for Mr A, or B to vote for Mr B a\n",
      "input A to vote for Mr A, or B to vote for Mr B a\n",
      "input A to vote for Mr A, or B to vote for Mr B x\n",
      "input A to vote for Mr A, or B to vote for Mr B a\n",
      "input A to vote for Mr A, or B to vote for Mr B a\n",
      "input A to vote for Mr A, or B to vote for Mr B c\n",
      "input A to vote for Mr A, or B to vote for Mr B b\n",
      "input A to vote for Mr A, or B to vote for Mr B b\n",
      "input A to vote for Mr A, or B to vote for Mr B b\n",
      "Mr A is the winner with 5 total count of vote\n"
     ]
    }
   ],
   "source": [
    "# write a python programm to allow 11 people to vote for two candidates then count result of the vote\n",
    "# and declear the winner\n",
    "\n",
    "cast = 1\n",
    "A = []\n",
    "B = []\n",
    "void = []\n",
    "while cast<=11:\n",
    "    vote = input(\"input A to vote for Mr A, or B to vote for Mr B \").upper()\n",
    "    if vote== \"A\":\n",
    "        A.append(vote)\n",
    "    elif vote == \"B\":\n",
    "        B.append(vote)\n",
    "    else:\n",
    "        void.append(vote)\n",
    "    cast+=1\n",
    "    \n",
    "if len(A)> len(B):\n",
    "    print(\"Mr A is the winner with {} total count of vote\".format(len(A)))\n",
    "elif len(B) > len(A):\n",
    "    print(\"Mr B is the winner with {} total count of vote\".format(len(B)))\n",
    "else:\n",
    "    print(\"we have vote again , because total count void is {} more count of Mr A and B\".format(len(void)))"
   ]
  },
  {
   "cell_type": "code",
   "execution_count": 32,
   "id": "f694dcb8",
   "metadata": {},
   "outputs": [
    {
     "name": "stdout",
     "output_type": "stream",
     "text": [
      "['A', 'A', 'A', 'A', 'A', 'A', 'A', 'A', 'A', 'A', 'A']\n"
     ]
    }
   ],
   "source": [
    "print(A)"
   ]
  },
  {
   "cell_type": "code",
   "execution_count": 33,
   "id": "af7b0b11",
   "metadata": {},
   "outputs": [
    {
     "name": "stdout",
     "output_type": "stream",
     "text": [
      "[]\n"
     ]
    }
   ],
   "source": [
    "print(B)"
   ]
  },
  {
   "cell_type": "code",
   "execution_count": 40,
   "id": "8ef865a3",
   "metadata": {},
   "outputs": [
    {
     "name": "stdout",
     "output_type": "stream",
     "text": [
      "['X', 'X', 'C']\n"
     ]
    }
   ],
   "source": [
    "print(void)"
   ]
  },
  {
   "cell_type": "code",
   "execution_count": 42,
   "id": "ed4a000e",
   "metadata": {},
   "outputs": [
    {
     "name": "stdout",
     "output_type": "stream",
     "text": [
      "input A to vote for Mr A, or B to vote for Mr B a\n",
      "input A to vote for Mr A, or B to vote for Mr B a\n",
      "input A to vote for Mr A, or B to vote for Mr B a\n",
      "input A to vote for Mr A, or B to vote for Mr B a\n",
      "input A to vote for Mr A, or B to vote for Mr B a\n",
      "input A to vote for Mr A, or B to vote for Mr B a\n",
      "input A to vote for Mr A, or B to vote for Mr B a\n",
      "input A to vote for Mr A, or B to vote for Mr B a\n",
      "input A to vote for Mr A, or B to vote for Mr B a\n",
      "input A to vote for Mr A, or B to vote for Mr B a\n",
      "input A to vote for Mr A, or B to vote for Mr B a\n",
      "\n",
      "\n",
      "Mr A has 11 total vote\n",
      "Mr B has 0 total vote\n",
      "The total void is 0\n"
     ]
    }
   ],
   "source": [
    "# write a python programm to allow 11 people to vote for two candidates then count result of the vote\n",
    "# and declear the winner\n",
    "\n",
    "cast = 1\n",
    "A = []\n",
    "B = []\n",
    "void = []\n",
    "while cast<=11:\n",
    "    vote = input(\"input A to vote for Mr A, or B to vote for Mr B \").upper()\n",
    "    if vote== \"A\":\n",
    "        A.append(vote)\n",
    "    elif vote == \"B\":\n",
    "        B.append(vote)\n",
    "    else:\n",
    "        void.append(vote)\n",
    "    cast+=1\n",
    "print(\"\\n\")    \n",
    "print(\"Mr A has {} total vote\".format(len(A)))\n",
    "print(\"Mr B has {} total vote\".format(len(B)))\n",
    "print(\"The total void is {}\".format(len(void)))\n",
    "    "
   ]
  },
  {
   "cell_type": "code",
   "execution_count": 44,
   "id": "8bbe775e",
   "metadata": {},
   "outputs": [
    {
     "name": "stdout",
     "output_type": "stream",
     "text": [
      "python 0\n",
      "python 1\n",
      "python 2\n",
      "python 3\n",
      "python 4\n",
      "python 5\n"
     ]
    }
   ],
   "source": [
    "# while true\n",
    "a=0\n",
    "while True:\n",
    "    print(\"python {}\".format(a))\n",
    "    if a==5:\n",
    "        break\n",
    "    a+=1"
   ]
  },
  {
   "cell_type": "code",
   "execution_count": null,
   "id": "22f12388",
   "metadata": {},
   "outputs": [],
   "source": []
  },
  {
   "cell_type": "code",
   "execution_count": null,
   "id": "3cbfbb11",
   "metadata": {},
   "outputs": [],
   "source": []
  },
  {
   "cell_type": "code",
   "execution_count": null,
   "id": "2dab495d",
   "metadata": {},
   "outputs": [],
   "source": [
    "class Car:\n",
    "    def __init__(self):\n",
    "        self.speed = 0  # Initialize the speed attribute to 0 km/hr\n",
    "\n",
    "    def start(self):\n",
    "        print(\"Car started\")\n",
    "        self.speed = 10  # You can set the initial speed to some value when the car starts\n",
    "\n",
    "    def stop(self):\n",
    "        print(\"Car stopped\")\n",
    "        self.speed = 0\n",
    "\n",
    "    def check_speed(self):\n",
    "        if self.speed <= 80:\n",
    "            print(f\"Current speed: {self.speed} km/hr (Safe)\")\n",
    "        else:\n",
    "            print(f\"Current speed: {self.speed} km/hr (Exceeding 80 km/hr - Please slow down)\")\n",
    "\n",
    "# Create an instance of the Car class\n",
    "my_car = Car()\n",
    "\n",
    "# Start the car\n",
    "my_car.start()\n",
    "\n",
    "# Check the speed\n",
    "my_car.check_speed()\n",
    "\n",
    "# Accelerate the car (for demonstration purposes)\n",
    "my_car.speed = 90\n",
    "\n",
    "# Check the speed again\n",
    "my_car.check_speed()\n",
    "\n",
    "# Stop the car\n",
    "my_car.stop()\n"
   ]
  },
  {
   "cell_type": "code",
   "execution_count": null,
   "id": "2ec6f7c0",
   "metadata": {},
   "outputs": [],
   "source": [
    "class Car:\n",
    "    def __init__(self, make, model, year):\n",
    "        self.make = make\n",
    "        self.model = model\n",
    "        self.year = year\n",
    "        self.speed = 0\n",
    "\n",
    "    def start(self):\n",
    "        print(f\"{self.year} {self.make} {self.model} started\")\n",
    "        self.speed = 10\n",
    "\n",
    "    def stop(self):\n",
    "        print(f\"{self.year} {self.make} {self.model} stopped\")\n",
    "        self.speed = 0\n",
    "\n",
    "    def accelerate(self, amount):\n",
    "        self.speed += amount\n",
    "\n",
    "    def brake(self, amount):\n",
    "        self.speed -= amount\n",
    "\n",
    "    def check_speed(self):\n",
    "        print(f\"Current speed: {self.speed} km/hr\")\n",
    "\n",
    "class ElectricCar(Car):\n",
    "    def __init__(self, make, model, year, battery_capacity):\n",
    "        super().__init__(make, model, year)\n",
    "        self.battery_capacity = battery_capacity\n",
    "        self.charge_level = 100\n",
    "\n",
    "    def charge(self, amount):\n",
    "        self.charge_level += amount\n",
    "        if self.charge_level > 100:\n",
    "            self.charge_level = 100\n",
    "\n",
    "    def discharge(self, amount):\n",
    "        self.charge_level -= amount\n",
    "        if self.charge_level < 0:\n",
    "            self.charge_level = 0\n",
    "\n",
    "    def check_charge(self):\n",
    "        print(f\"Battery charge level: {self.charge_level}%\")\n",
    "\n",
    "# Create an instance of the Car class\n",
    "my_car = Car(\"Toyota\", \"Camry\", 2023)\n",
    "\n",
    "# Start the car\n",
    "my_car.start()\n",
    "my_car.accelerate(30)\n",
    "my_car.check_speed()\n",
    "\n",
    "# Create an instance of the ElectricCar class\n",
    "my_electric_car = ElectricCar(\"Tesla\", \"Model S\", 2023, battery_capacity=75)\n",
    "\n",
    "# Start the electric car\n",
    "my_electric_car.start()\n",
    "my_electric_car.accelerate(40)\n",
    "my_electric_car.check_speed()\n",
    "\n",
    "# Charge the electric car\n",
    "my_electric_car.charge(20)\n",
    "my_electric_car.check_charge()\n"
   ]
  },
  {
   "cell_type": "code",
   "execution_count": null,
   "id": "81d350e8",
   "metadata": {},
   "outputs": [],
   "source": []
  },
  {
   "cell_type": "code",
   "execution_count": null,
   "id": "debb5132",
   "metadata": {},
   "outputs": [],
   "source": []
  },
  {
   "cell_type": "code",
   "execution_count": null,
   "id": "c7a233ad",
   "metadata": {},
   "outputs": [],
   "source": []
  },
  {
   "cell_type": "code",
   "execution_count": 2,
   "id": "b709c0e1",
   "metadata": {},
   "outputs": [
    {
     "data": {
      "text/html": [
       "<div>\n",
       "<style scoped>\n",
       "    .dataframe tbody tr th:only-of-type {\n",
       "        vertical-align: middle;\n",
       "    }\n",
       "\n",
       "    .dataframe tbody tr th {\n",
       "        vertical-align: top;\n",
       "    }\n",
       "\n",
       "    .dataframe thead th {\n",
       "        text-align: right;\n",
       "    }\n",
       "</style>\n",
       "<table border=\"1\" class=\"dataframe\">\n",
       "  <thead>\n",
       "    <tr style=\"text-align: right;\">\n",
       "      <th></th>\n",
       "      <th>Brand</th>\n",
       "      <th>Year</th>\n",
       "      <th>Sold</th>\n",
       "    </tr>\n",
       "  </thead>\n",
       "  <tbody>\n",
       "    <tr>\n",
       "      <th>0</th>\n",
       "      <td>Maruti</td>\n",
       "      <td>2010</td>\n",
       "      <td>6</td>\n",
       "    </tr>\n",
       "    <tr>\n",
       "      <th>1</th>\n",
       "      <td>Maruti</td>\n",
       "      <td>2011</td>\n",
       "      <td>7</td>\n",
       "    </tr>\n",
       "    <tr>\n",
       "      <th>2</th>\n",
       "      <td>Maruti</td>\n",
       "      <td>2009</td>\n",
       "      <td>9</td>\n",
       "    </tr>\n",
       "    <tr>\n",
       "      <th>3</th>\n",
       "      <td>Maruti</td>\n",
       "      <td>2013</td>\n",
       "      <td>8</td>\n",
       "    </tr>\n",
       "    <tr>\n",
       "      <th>4</th>\n",
       "      <td>Hyundai</td>\n",
       "      <td>2010</td>\n",
       "      <td>3</td>\n",
       "    </tr>\n",
       "    <tr>\n",
       "      <th>5</th>\n",
       "      <td>Hyundai</td>\n",
       "      <td>2011</td>\n",
       "      <td>5</td>\n",
       "    </tr>\n",
       "    <tr>\n",
       "      <th>6</th>\n",
       "      <td>Toyota</td>\n",
       "      <td>2011</td>\n",
       "      <td>2</td>\n",
       "    </tr>\n",
       "    <tr>\n",
       "      <th>7</th>\n",
       "      <td>Mahindra</td>\n",
       "      <td>2010</td>\n",
       "      <td>8</td>\n",
       "    </tr>\n",
       "    <tr>\n",
       "      <th>8</th>\n",
       "      <td>Mahindra</td>\n",
       "      <td>2013</td>\n",
       "      <td>7</td>\n",
       "    </tr>\n",
       "    <tr>\n",
       "      <th>9</th>\n",
       "      <td>Ford</td>\n",
       "      <td>2010</td>\n",
       "      <td>2</td>\n",
       "    </tr>\n",
       "    <tr>\n",
       "      <th>10</th>\n",
       "      <td>Toyota</td>\n",
       "      <td>2010</td>\n",
       "      <td>4</td>\n",
       "    </tr>\n",
       "    <tr>\n",
       "      <th>11</th>\n",
       "      <td>Ford</td>\n",
       "      <td>2011</td>\n",
       "      <td>2</td>\n",
       "    </tr>\n",
       "  </tbody>\n",
       "</table>\n",
       "</div>"
      ],
      "text/plain": [
       "       Brand  Year  Sold\n",
       "0     Maruti  2010     6\n",
       "1     Maruti  2011     7\n",
       "2     Maruti  2009     9\n",
       "3     Maruti  2013     8\n",
       "4    Hyundai  2010     3\n",
       "5    Hyundai  2011     5\n",
       "6     Toyota  2011     2\n",
       "7   Mahindra  2010     8\n",
       "8   Mahindra  2013     7\n",
       "9       Ford  2010     2\n",
       "10    Toyota  2010     4\n",
       "11      Ford  2011     2"
      ]
     },
     "execution_count": 2,
     "metadata": {},
     "output_type": "execute_result"
    }
   ],
   "source": [
    "import pandas as pd\n",
    "car_selling_data = {'Brand': ['Maruti', 'Maruti', 'Maruti',\n",
    "                              'Maruti', 'Hyundai', 'Hyundai',\n",
    "                              'Toyota', 'Mahindra', 'Mahindra',\n",
    "                              'Ford', 'Toyota', 'Ford'],\n",
    "                    'Year':  [2010, 2011, 2009, 2013,\n",
    "                              2010, 2011, 2011, 2010,\n",
    "                              2013, 2010, 2010, 2011],\n",
    "                    'Sold': [6, 7, 9, 8, 3, 5,\n",
    "                             2, 8, 7, 2, 4, 2]}\n",
    " \n",
    "# Creating Dataframe for Provided Data\n",
    "df = pd.DataFrame(car_selling_data)\n",
    "df"
   ]
  },
  {
   "cell_type": "code",
   "execution_count": 3,
   "id": "1db1f59c",
   "metadata": {},
   "outputs": [
    {
     "data": {
      "text/plain": [
       "<pandas.core.groupby.generic.DataFrameGroupBy object at 0x000001D9CABD0670>"
      ]
     },
     "execution_count": 3,
     "metadata": {},
     "output_type": "execute_result"
    }
   ],
   "source": [
    "# Group the data when year = 2010\n",
    "grouped = df.groupby('Year')\n",
    "grouped"
   ]
  },
  {
   "cell_type": "code",
   "execution_count": 4,
   "id": "5df5ae6b",
   "metadata": {},
   "outputs": [
    {
     "data": {
      "text/html": [
       "<div>\n",
       "<style scoped>\n",
       "    .dataframe tbody tr th:only-of-type {\n",
       "        vertical-align: middle;\n",
       "    }\n",
       "\n",
       "    .dataframe tbody tr th {\n",
       "        vertical-align: top;\n",
       "    }\n",
       "\n",
       "    .dataframe thead th {\n",
       "        text-align: right;\n",
       "    }\n",
       "</style>\n",
       "<table border=\"1\" class=\"dataframe\">\n",
       "  <thead>\n",
       "    <tr style=\"text-align: right;\">\n",
       "      <th></th>\n",
       "      <th>Brand</th>\n",
       "      <th>Year</th>\n",
       "      <th>Sold</th>\n",
       "    </tr>\n",
       "  </thead>\n",
       "  <tbody>\n",
       "    <tr>\n",
       "      <th>0</th>\n",
       "      <td>Maruti</td>\n",
       "      <td>2010</td>\n",
       "      <td>6</td>\n",
       "    </tr>\n",
       "    <tr>\n",
       "      <th>4</th>\n",
       "      <td>Hyundai</td>\n",
       "      <td>2010</td>\n",
       "      <td>3</td>\n",
       "    </tr>\n",
       "    <tr>\n",
       "      <th>7</th>\n",
       "      <td>Mahindra</td>\n",
       "      <td>2010</td>\n",
       "      <td>8</td>\n",
       "    </tr>\n",
       "    <tr>\n",
       "      <th>9</th>\n",
       "      <td>Ford</td>\n",
       "      <td>2010</td>\n",
       "      <td>2</td>\n",
       "    </tr>\n",
       "    <tr>\n",
       "      <th>10</th>\n",
       "      <td>Toyota</td>\n",
       "      <td>2010</td>\n",
       "      <td>4</td>\n",
       "    </tr>\n",
       "  </tbody>\n",
       "</table>\n",
       "</div>"
      ],
      "text/plain": [
       "       Brand  Year  Sold\n",
       "0     Maruti  2010     6\n",
       "4    Hyundai  2010     3\n",
       "7   Mahindra  2010     8\n",
       "9       Ford  2010     2\n",
       "10    Toyota  2010     4"
      ]
     },
     "execution_count": 4,
     "metadata": {},
     "output_type": "execute_result"
    }
   ],
   "source": [
    "grouped.get_group(2010)"
   ]
  },
  {
   "cell_type": "code",
   "execution_count": null,
   "id": "037b830f",
   "metadata": {},
   "outputs": [],
   "source": [
    "# change of code\n",
    "import pandas as pd\n",
    "car_selling_data = {'Brand': ['Maruti', 'Maruti', 'Maruti',\n",
    "                              'Maruti', 'Hyundai', 'Hyundai',\n",
    "                              'Toyota', 'Mahindra', 'Mahindra',\n",
    "                              'Ford', 'Toyota', 'Ford'],\n",
    "                    'Year':  [2010, 2011, 2009, 2013,\n",
    "                              2010, 2011, 2011, 2010,\n",
    "                              2013, 2010, 2010, 2011],\n",
    "                    'Sold': [6, 7, 9, 8, 3, 5,\n",
    "                             2, 8, 7, 2, 4, 2]}\n",
    " \n",
    "# Creating Dataframe for Provided Data\n",
    "df = pd.DataFrame(car_selling_data)\n",
    "df"
   ]
  },
  {
   "cell_type": "code",
   "execution_count": null,
   "id": "69cd02fe",
   "metadata": {},
   "outputs": [],
   "source": []
  },
  {
   "cell_type": "code",
   "execution_count": null,
   "id": "f90edfab",
   "metadata": {},
   "outputs": [],
   "source": [
    "# change of code\n",
    "import pandas as pd\n",
    "car_selling_data = {'Brand': ['Maruti', 'Maruti', 'Maruti',\n",
    "                              'Maruti', 'Hyundai', 'Hyundai',\n",
    "                              'Toyota', 'Mahindra', 'Mahindra',\n",
    "                              'Ford', 'Toyota', 'Ford'],\n",
    "                    'Year':  [2010, 2011, 2009, 2013,\n",
    "                              2010, 2011, 2011, 2010,\n",
    "                              2013, 2010, 2010, 2011],\n",
    "                    'Sold': [6, 7, 9, 8, 3, 5,\n",
    "                             2, 8, 7, 2, 4, 2]}\n",
    " \n",
    "# Creating Dataframe for Provided Data\n",
    "df = pd.DataFrame(car_selling_data)\n",
    "df"
   ]
  },
  {
   "cell_type": "code",
   "execution_count": null,
   "id": "45ff1248",
   "metadata": {},
   "outputs": [],
   "source": []
  },
  {
   "cell_type": "code",
   "execution_count": null,
   "id": "848fab21",
   "metadata": {},
   "outputs": [],
   "source": []
  },
  {
   "cell_type": "code",
   "execution_count": null,
   "id": "13846771",
   "metadata": {},
   "outputs": [],
   "source": []
  }
 ],
 "metadata": {
  "kernelspec": {
   "display_name": "Python 3 (ipykernel)",
   "language": "python",
   "name": "python3"
  },
  "language_info": {
   "codemirror_mode": {
    "name": "ipython",
    "version": 3
   },
   "file_extension": ".py",
   "mimetype": "text/x-python",
   "name": "python",
   "nbconvert_exporter": "python",
   "pygments_lexer": "ipython3",
   "version": "3.9.13"
  }
 },
 "nbformat": 4,
 "nbformat_minor": 5
}
