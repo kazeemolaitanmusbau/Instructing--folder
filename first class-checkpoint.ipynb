{
 "cells": [
  {
   "cell_type": "markdown",
   "id": "b7ad9ec3",
   "metadata": {},
   "source": [
    "# Control Flow in Python\n",
    "is the order at which python execute the statement or syntax\n",
    "\n",
    "### 1. Conditional Statement\n",
    "    a. if\n",
    "    b. elif\n",
    "    c. else\n",
    "    \n",
    "###  2. Loop Statement\n",
    "     a. for\n",
    "     b. while\n",
    "     \n",
    "     \n",
    " ### 3. Loop Control Statement\n",
    "      a break\n",
    "      b. continue\n",
    "  \n",
    "### 4. Error Handling Statement\n",
    "     a. try\n",
    "     b. except\n",
    "     c. finally"
   ]
  },
  {
   "cell_type": "code",
   "execution_count": 3,
   "id": "284b1271",
   "metadata": {},
   "outputs": [
    {
     "name": "stdout",
     "output_type": "stream",
     "text": [
      "we are good to go!\n"
     ]
    }
   ],
   "source": [
    "# if \n",
    "a = 10\n",
    "if a > 5:\n",
    "    print(\"we are good to go!\")"
   ]
  },
  {
   "cell_type": "code",
   "execution_count": 4,
   "id": "8ae4f086",
   "metadata": {},
   "outputs": [],
   "source": [
    "# if \n",
    "a = 10\n",
    "if a < 5:\n",
    "    print(\"we are good to go!\")"
   ]
  },
  {
   "cell_type": "code",
   "execution_count": 5,
   "id": "4f8540c2",
   "metadata": {},
   "outputs": [
    {
     "name": "stdout",
     "output_type": "stream",
     "text": [
      "we are good to go!\n"
     ]
    }
   ],
   "source": [
    "# if and else statement\n",
    "\n",
    "b = 15\n",
    "\n",
    "if b > 15:\n",
    "    print(\"we may need to wait!\")\n",
    "else:\n",
    "    print(\"we are good to go!\")"
   ]
  },
  {
   "cell_type": "code",
   "execution_count": 6,
   "id": "2f079b09",
   "metadata": {},
   "outputs": [
    {
     "name": "stdout",
     "output_type": "stream",
     "text": [
      "Ade is a man\n"
     ]
    }
   ],
   "source": [
    "a = 10\n",
    "b = 20\n",
    "\n",
    "if (a>15) and (b==20):\n",
    "    print(\"we need people to talk\")\n",
    "    \n",
    "elif (a==10) and (b>15):\n",
    "    print(\"Ade is a man\")\n",
    "    \n",
    "elif (a>=10) and (b==20):\n",
    "    print(\"we are the people\")\n",
    "else:\n",
    "    print(\"non of the above condition is met!\")"
   ]
  },
  {
   "cell_type": "markdown",
   "id": "b323d60a",
   "metadata": {},
   "source": [
    "# Nested if"
   ]
  },
  {
   "cell_type": "code",
   "execution_count": 14,
   "id": "aa0f690c",
   "metadata": {},
   "outputs": [
    {
     "name": "stdout",
     "output_type": "stream",
     "text": [
      "please enter your age 77\n",
      "do you have a pvc yes\n",
      "what is your polling units OLoWoiRA\n",
      "vote for Mr A\n"
     ]
    }
   ],
   "source": [
    "age = int( input(\"please enter your age \"))\n",
    "if age>= 18:\n",
    "    pvc = input(\"do you have a pvc \").lower()\n",
    "    if pvc == \"yes\":\n",
    "        lga= input(\"what is your polling units \").lower()\n",
    "        if lga==\"olowoira\":\n",
    "            print(\"vote for Mr A\")\n",
    "        else:\n",
    "            print(\"you can vote for any person you wish\")\n",
    "    else:\n",
    "        print(\"go the Mr James to collect your pvc, and come back to vote\")\n",
    "else:\n",
    "    print(\"come back when you are 18\")"
   ]
  },
  {
   "cell_type": "code",
   "execution_count": 16,
   "id": "b44f2439",
   "metadata": {},
   "outputs": [
    {
     "name": "stdout",
     "output_type": "stream",
     "text": [
      "1\n",
      "2\n",
      "3\n",
      "4\n",
      "5\n",
      "6\n",
      "7\n",
      "8\n",
      "9\n",
      "10\n",
      "11\n",
      "12\n",
      "13\n",
      "14\n",
      "15\n",
      "16\n",
      "171\n",
      "18\n",
      "19\n",
      "20\n"
     ]
    }
   ],
   "source": [
    "# for loop\n",
    "ages = [1,2,3,4,5,6,7,8,9,10,11,12,13,14,15,16,171,18,19,20] \n",
    "\n",
    "for age in ages:\n",
    "    print(age)"
   ]
  },
  {
   "cell_type": "code",
   "execution_count": 17,
   "id": "597843f3",
   "metadata": {},
   "outputs": [
    {
     "ename": "TypeError",
     "evalue": "'int' object is not iterable",
     "output_type": "error",
     "traceback": [
      "\u001b[1;31m---------------------------------------------------------------------------\u001b[0m",
      "\u001b[1;31mTypeError\u001b[0m                                 Traceback (most recent call last)",
      "\u001b[1;32m~\\AppData\\Local\\Temp\\ipykernel_14320\\1856874905.py\u001b[0m in \u001b[0;36m<module>\u001b[1;34m\u001b[0m\n\u001b[0;32m      1\u001b[0m \u001b[0ma\u001b[0m \u001b[1;33m=\u001b[0m \u001b[1;36m5\u001b[0m\u001b[1;33m\u001b[0m\u001b[1;33m\u001b[0m\u001b[0m\n\u001b[1;32m----> 2\u001b[1;33m \u001b[1;32mfor\u001b[0m \u001b[0mi\u001b[0m \u001b[1;32min\u001b[0m \u001b[0ma\u001b[0m\u001b[1;33m:\u001b[0m\u001b[1;33m\u001b[0m\u001b[1;33m\u001b[0m\u001b[0m\n\u001b[0m\u001b[0;32m      3\u001b[0m     \u001b[0mprint\u001b[0m\u001b[1;33m(\u001b[0m\u001b[0mi\u001b[0m\u001b[1;33m)\u001b[0m\u001b[1;33m\u001b[0m\u001b[1;33m\u001b[0m\u001b[0m\n",
      "\u001b[1;31mTypeError\u001b[0m: 'int' object is not iterable"
     ]
    }
   ],
   "source": [
    "a = 5\n",
    "for i in a:\n",
    "    print(i)"
   ]
  },
  {
   "cell_type": "markdown",
   "id": "6a99b755",
   "metadata": {},
   "source": [
    "range(index  :position:step)"
   ]
  },
  {
   "cell_type": "code",
   "execution_count": 22,
   "id": "864cf78c",
   "metadata": {},
   "outputs": [
    {
     "name": "stdout",
     "output_type": "stream",
     "text": [
      "0\n",
      "2\n",
      "4\n",
      "6\n",
      "8\n",
      "10\n",
      "12\n",
      "14\n",
      "16\n",
      "18\n",
      "20\n"
     ]
    }
   ],
   "source": [
    "for i in range(0, 22, 2): # iterable element\n",
    "    print(i)"
   ]
  },
  {
   "cell_type": "code",
   "execution_count": 23,
   "id": "0e4b84c1",
   "metadata": {},
   "outputs": [],
   "source": [
    "# seperate the odd ages and the even ages from the list of ages below\n",
    "ages = [1,2,3,4,5,6,7,8,9,10,11,12,13,14,15,16,171,18,19,20] \n",
    "odd_ages = []\n",
    "even_ages = []\n",
    "for age in ages:\n",
    "    if age%2==0:\n",
    "        even_ages.append(age)\n",
    "    else:\n",
    "        odd_ages.append(age)"
   ]
  },
  {
   "cell_type": "code",
   "execution_count": 25,
   "id": "bfae7ba6",
   "metadata": {},
   "outputs": [
    {
     "name": "stdout",
     "output_type": "stream",
     "text": [
      "[1, 3, 5, 7, 9, 11, 13, 15, 171, 19]\n"
     ]
    }
   ],
   "source": [
    "print(odd_ages)"
   ]
  },
  {
   "cell_type": "code",
   "execution_count": 26,
   "id": "e0a3bc20",
   "metadata": {},
   "outputs": [
    {
     "name": "stdout",
     "output_type": "stream",
     "text": [
      "[2, 4, 6, 8, 10, 12, 14, 16, 18, 20]\n"
     ]
    }
   ],
   "source": [
    "print(even_ages)"
   ]
  },
  {
   "cell_type": "code",
   "execution_count": 28,
   "id": "96b3a517",
   "metadata": {},
   "outputs": [
    {
     "name": "stdout",
     "output_type": "stream",
     "text": [
      "python is fun to learn 0\n",
      "python is fun to learn 1\n",
      "python is fun to learn 2\n",
      "python is fun to learn 3\n",
      "python is fun to learn 4\n",
      "python is fun to learn 5\n"
     ]
    }
   ],
   "source": [
    "# while\n",
    "a= 0\n",
    "while a<=5:\n",
    "    print(\"python is fun to learn {}\".format(a))\n",
    "    a+=1"
   ]
  },
  {
   "cell_type": "code",
   "execution_count": 39,
   "id": "aef2b59e",
   "metadata": {},
   "outputs": [
    {
     "name": "stdout",
     "output_type": "stream",
     "text": [
      "input A to vote for Mr A, or B to vote for Mr B a\n",
      "input A to vote for Mr A, or B to vote for Mr B x\n",
      "input A to vote for Mr A, or B to vote for Mr B a\n",
      "input A to vote for Mr A, or B to vote for Mr B a\n",
      "input A to vote for Mr A, or B to vote for Mr B x\n",
      "input A to vote for Mr A, or B to vote for Mr B a\n",
      "input A to vote for Mr A, or B to vote for Mr B a\n",
      "input A to vote for Mr A, or B to vote for Mr B c\n",
      "input A to vote for Mr A, or B to vote for Mr B b\n",
      "input A to vote for Mr A, or B to vote for Mr B b\n",
      "input A to vote for Mr A, or B to vote for Mr B b\n",
      "Mr A is the winner with 5 total count of vote\n"
     ]
    }
   ],
   "source": [
    "# write a python programm to allow 11 people to vote for two candidates then count result of the vote\n",
    "# and declear the winner\n",
    "\n",
    "cast = 1\n",
    "A = []\n",
    "B = []\n",
    "void = []\n",
    "while cast<=11:\n",
    "    vote = input(\"input A to vote for Mr A, or B to vote for Mr B \").upper()\n",
    "    if vote== \"A\":\n",
    "        A.append(vote)\n",
    "    elif vote == \"B\":\n",
    "        B.append(vote)\n",
    "    else:\n",
    "        void.append(vote)\n",
    "    cast+=1\n",
    "    \n",
    "if len(A)> len(B):\n",
    "    print(\"Mr A is the winner with {} total count of vote\".format(len(A)))\n",
    "elif len(B) > len(A):\n",
    "    print(\"Mr B is the winner with {} total count of vote\".format(len(B)))\n",
    "else:\n",
    "    print(\"we have vote again , because total count void is {} more count of Mr A and B\".format(len(void)))"
   ]
  },
  {
   "cell_type": "code",
   "execution_count": 32,
   "id": "f694dcb8",
   "metadata": {},
   "outputs": [
    {
     "name": "stdout",
     "output_type": "stream",
     "text": [
      "['A', 'A', 'A', 'A', 'A', 'A', 'A', 'A', 'A', 'A', 'A']\n"
     ]
    }
   ],
   "source": [
    "print(A)"
   ]
  },
  {
   "cell_type": "code",
   "execution_count": 33,
   "id": "af7b0b11",
   "metadata": {},
   "outputs": [
    {
     "name": "stdout",
     "output_type": "stream",
     "text": [
      "[]\n"
     ]
    }
   ],
   "source": [
    "print(B)"
   ]
  },
  {
   "cell_type": "code",
   "execution_count": 40,
   "id": "8ef865a3",
   "metadata": {},
   "outputs": [
    {
     "name": "stdout",
     "output_type": "stream",
     "text": [
      "['X', 'X', 'C']\n"
     ]
    }
   ],
   "source": [
    "print(void)"
   ]
  },
  {
   "cell_type": "code",
   "execution_count": 42,
   "id": "ed4a000e",
   "metadata": {},
   "outputs": [
    {
     "name": "stdout",
     "output_type": "stream",
     "text": [
      "input A to vote for Mr A, or B to vote for Mr B a\n",
      "input A to vote for Mr A, or B to vote for Mr B a\n",
      "input A to vote for Mr A, or B to vote for Mr B a\n",
      "input A to vote for Mr A, or B to vote for Mr B a\n",
      "input A to vote for Mr A, or B to vote for Mr B a\n",
      "input A to vote for Mr A, or B to vote for Mr B a\n",
      "input A to vote for Mr A, or B to vote for Mr B a\n",
      "input A to vote for Mr A, or B to vote for Mr B a\n",
      "input A to vote for Mr A, or B to vote for Mr B a\n",
      "input A to vote for Mr A, or B to vote for Mr B a\n",
      "input A to vote for Mr A, or B to vote for Mr B a\n",
      "\n",
      "\n",
      "Mr A has 11 total vote\n",
      "Mr B has 0 total vote\n",
      "The total void is 0\n"
     ]
    }
   ],
   "source": [
    "# write a python programm to allow 11 people to vote for two candidates then count result of the vote\n",
    "# and declear the winner\n",
    "\n",
    "cast = 1\n",
    "A = []\n",
    "B = []\n",
    "void = []\n",
    "while cast<=11:\n",
    "    vote = input(\"input A to vote for Mr A, or B to vote for Mr B \").upper()\n",
    "    if vote== \"A\":\n",
    "        A.append(vote)\n",
    "    elif vote == \"B\":\n",
    "        B.append(vote)\n",
    "    else:\n",
    "        void.append(vote)\n",
    "    cast+=1\n",
    "print(\"\\n\")    \n",
    "print(\"Mr A has {} total vote\".format(len(A)))\n",
    "print(\"Mr B has {} total vote\".format(len(B)))\n",
    "print(\"The total void is {}\".format(len(void)))\n",
    "    "
   ]
  },
  {
   "cell_type": "code",
   "execution_count": 44,
   "id": "8bbe775e",
   "metadata": {},
   "outputs": [
    {
     "name": "stdout",
     "output_type": "stream",
     "text": [
      "python 0\n",
      "python 1\n",
      "python 2\n",
      "python 3\n",
      "python 4\n",
      "python 5\n"
     ]
    }
   ],
   "source": [
    "# while true\n",
    "a=0\n",
    "while True:\n",
    "    print(\"python {}\".format(a))\n",
    "    if a==5:\n",
    "        break\n",
    "    a+=1"
   ]
  },
  {
   "cell_type": "code",
   "execution_count": null,
   "id": "22f12388",
   "metadata": {},
   "outputs": [],
   "source": []
  },
  {
   "cell_type": "code",
   "execution_count": null,
   "id": "848fab21",
   "metadata": {},
   "outputs": [],
   "source": []
  },
  {
   "cell_type": "code",
   "execution_count": null,
   "id": "13846771",
   "metadata": {},
   "outputs": [],
   "source": []
  }
 ],
 "metadata": {
  "kernelspec": {
   "display_name": "Python 3 (ipykernel)",
   "language": "python",
   "name": "python3"
  },
  "language_info": {
   "codemirror_mode": {
    "name": "ipython",
    "version": 3
   },
   "file_extension": ".py",
   "mimetype": "text/x-python",
   "name": "python",
   "nbconvert_exporter": "python",
   "pygments_lexer": "ipython3",
   "version": "3.9.13"
  }
 },
 "nbformat": 4,
 "nbformat_minor": 5
}
